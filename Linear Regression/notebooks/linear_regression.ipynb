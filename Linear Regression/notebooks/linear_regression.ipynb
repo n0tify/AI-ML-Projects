{
 "cells": [
  {
   "cell_type": "code",
   "execution_count": 1,
   "id": "3f36af62",
   "metadata": {},
   "outputs": [],
   "source": [
    "# Essential libraries for regression and visualization\n",
    "import pandas as pd\n",
    "import numpy as np\n",
    "import matplotlib.pyplot as plt\n",
    "import seaborn as sns\n",
    "from sklearn.model_selection import train_test_split\n",
    "from sklearn.linear_model import LinearRegression\n",
    "from sklearn.metrics import mean_absolute_error, mean_squared_error, r2_score\n",
    "import plotly.express as px\n",
    "import plotly.io as pio\n",
    "\n",
    "# For saving interactive plots\n",
    "pio.kaleido.scope.default_format = \"png\"\n",
    "\n",
    "# General plot settings\n",
    "sns.set(style=\"whitegrid\")\n",
    "plt.rcParams[\"figure.figsize\"] = (10, 6)\n"
   ]
  },
  {
   "cell_type": "code",
   "execution_count": 2,
   "id": "73eda5e0",
   "metadata": {},
   "outputs": [
    {
     "data": {
      "text/html": [
       "<div>\n",
       "<style scoped>\n",
       "    .dataframe tbody tr th:only-of-type {\n",
       "        vertical-align: middle;\n",
       "    }\n",
       "\n",
       "    .dataframe tbody tr th {\n",
       "        vertical-align: top;\n",
       "    }\n",
       "\n",
       "    .dataframe thead th {\n",
       "        text-align: right;\n",
       "    }\n",
       "</style>\n",
       "<table border=\"1\" class=\"dataframe\">\n",
       "  <thead>\n",
       "    <tr style=\"text-align: right;\">\n",
       "      <th></th>\n",
       "      <th>price</th>\n",
       "      <th>area</th>\n",
       "      <th>bedrooms</th>\n",
       "      <th>bathrooms</th>\n",
       "      <th>stories</th>\n",
       "      <th>mainroad</th>\n",
       "      <th>guestroom</th>\n",
       "      <th>basement</th>\n",
       "      <th>hotwaterheating</th>\n",
       "      <th>airconditioning</th>\n",
       "      <th>parking</th>\n",
       "      <th>prefarea</th>\n",
       "      <th>furnishingstatus</th>\n",
       "    </tr>\n",
       "  </thead>\n",
       "  <tbody>\n",
       "    <tr>\n",
       "      <th>0</th>\n",
       "      <td>13300000</td>\n",
       "      <td>7420</td>\n",
       "      <td>4</td>\n",
       "      <td>2</td>\n",
       "      <td>3</td>\n",
       "      <td>yes</td>\n",
       "      <td>no</td>\n",
       "      <td>no</td>\n",
       "      <td>no</td>\n",
       "      <td>yes</td>\n",
       "      <td>2</td>\n",
       "      <td>yes</td>\n",
       "      <td>furnished</td>\n",
       "    </tr>\n",
       "    <tr>\n",
       "      <th>1</th>\n",
       "      <td>12250000</td>\n",
       "      <td>8960</td>\n",
       "      <td>4</td>\n",
       "      <td>4</td>\n",
       "      <td>4</td>\n",
       "      <td>yes</td>\n",
       "      <td>no</td>\n",
       "      <td>no</td>\n",
       "      <td>no</td>\n",
       "      <td>yes</td>\n",
       "      <td>3</td>\n",
       "      <td>no</td>\n",
       "      <td>furnished</td>\n",
       "    </tr>\n",
       "    <tr>\n",
       "      <th>2</th>\n",
       "      <td>12250000</td>\n",
       "      <td>9960</td>\n",
       "      <td>3</td>\n",
       "      <td>2</td>\n",
       "      <td>2</td>\n",
       "      <td>yes</td>\n",
       "      <td>no</td>\n",
       "      <td>yes</td>\n",
       "      <td>no</td>\n",
       "      <td>no</td>\n",
       "      <td>2</td>\n",
       "      <td>yes</td>\n",
       "      <td>semi-furnished</td>\n",
       "    </tr>\n",
       "    <tr>\n",
       "      <th>3</th>\n",
       "      <td>12215000</td>\n",
       "      <td>7500</td>\n",
       "      <td>4</td>\n",
       "      <td>2</td>\n",
       "      <td>2</td>\n",
       "      <td>yes</td>\n",
       "      <td>no</td>\n",
       "      <td>yes</td>\n",
       "      <td>no</td>\n",
       "      <td>yes</td>\n",
       "      <td>3</td>\n",
       "      <td>yes</td>\n",
       "      <td>furnished</td>\n",
       "    </tr>\n",
       "    <tr>\n",
       "      <th>4</th>\n",
       "      <td>11410000</td>\n",
       "      <td>7420</td>\n",
       "      <td>4</td>\n",
       "      <td>1</td>\n",
       "      <td>2</td>\n",
       "      <td>yes</td>\n",
       "      <td>yes</td>\n",
       "      <td>yes</td>\n",
       "      <td>no</td>\n",
       "      <td>yes</td>\n",
       "      <td>2</td>\n",
       "      <td>no</td>\n",
       "      <td>furnished</td>\n",
       "    </tr>\n",
       "  </tbody>\n",
       "</table>\n",
       "</div>"
      ],
      "text/plain": [
       "      price  area  bedrooms  bathrooms  stories mainroad guestroom basement  \\\n",
       "0  13300000  7420         4          2        3      yes        no       no   \n",
       "1  12250000  8960         4          4        4      yes        no       no   \n",
       "2  12250000  9960         3          2        2      yes        no      yes   \n",
       "3  12215000  7500         4          2        2      yes        no      yes   \n",
       "4  11410000  7420         4          1        2      yes       yes      yes   \n",
       "\n",
       "  hotwaterheating airconditioning  parking prefarea furnishingstatus  \n",
       "0              no             yes        2      yes        furnished  \n",
       "1              no             yes        3       no        furnished  \n",
       "2              no              no        2      yes   semi-furnished  \n",
       "3              no             yes        3      yes        furnished  \n",
       "4              no             yes        2       no        furnished  "
      ]
     },
     "execution_count": 2,
     "metadata": {},
     "output_type": "execute_result"
    }
   ],
   "source": [
    "# Load the housing dataset\n",
    "df = pd.read_csv(\"../data/Housing.csv\")\n",
    "\n",
    "# Preview data\n",
    "df.head()\n"
   ]
  },
  {
   "cell_type": "code",
   "execution_count": 3,
   "id": "4848aec4",
   "metadata": {},
   "outputs": [
    {
     "name": "stdout",
     "output_type": "stream",
     "text": [
      "✅ Dataset Info:\n",
      "\n",
      "<class 'pandas.core.frame.DataFrame'>\n",
      "RangeIndex: 545 entries, 0 to 544\n",
      "Data columns (total 13 columns):\n",
      " #   Column            Non-Null Count  Dtype \n",
      "---  ------            --------------  ----- \n",
      " 0   price             545 non-null    int64 \n",
      " 1   area              545 non-null    int64 \n",
      " 2   bedrooms          545 non-null    int64 \n",
      " 3   bathrooms         545 non-null    int64 \n",
      " 4   stories           545 non-null    int64 \n",
      " 5   mainroad          545 non-null    object\n",
      " 6   guestroom         545 non-null    object\n",
      " 7   basement          545 non-null    object\n",
      " 8   hotwaterheating   545 non-null    object\n",
      " 9   airconditioning   545 non-null    object\n",
      " 10  parking           545 non-null    int64 \n",
      " 11  prefarea          545 non-null    object\n",
      " 12  furnishingstatus  545 non-null    object\n",
      "dtypes: int64(6), object(7)\n",
      "memory usage: 55.5+ KB\n",
      "None\n",
      "\n",
      "✅ Summary Statistics:\n",
      "\n",
      "              price          area    bedrooms   bathrooms     stories  \\\n",
      "count  5.450000e+02    545.000000  545.000000  545.000000  545.000000   \n",
      "mean   4.766729e+06   5150.541284    2.965138    1.286239    1.805505   \n",
      "std    1.870440e+06   2170.141023    0.738064    0.502470    0.867492   \n",
      "min    1.750000e+06   1650.000000    1.000000    1.000000    1.000000   \n",
      "25%    3.430000e+06   3600.000000    2.000000    1.000000    1.000000   \n",
      "50%    4.340000e+06   4600.000000    3.000000    1.000000    2.000000   \n",
      "75%    5.740000e+06   6360.000000    3.000000    2.000000    2.000000   \n",
      "max    1.330000e+07  16200.000000    6.000000    4.000000    4.000000   \n",
      "\n",
      "          parking  \n",
      "count  545.000000  \n",
      "mean     0.693578  \n",
      "std      0.861586  \n",
      "min      0.000000  \n",
      "25%      0.000000  \n",
      "50%      0.000000  \n",
      "75%      1.000000  \n",
      "max      3.000000  \n",
      "\n",
      "✅ Missing Values:\n",
      "\n",
      "price               0\n",
      "area                0\n",
      "bedrooms            0\n",
      "bathrooms           0\n",
      "stories             0\n",
      "mainroad            0\n",
      "guestroom           0\n",
      "basement            0\n",
      "hotwaterheating     0\n",
      "airconditioning     0\n",
      "parking             0\n",
      "prefarea            0\n",
      "furnishingstatus    0\n",
      "dtype: int64\n"
     ]
    }
   ],
   "source": [
    "# Check data types and missing values\n",
    "print(\"✅ Dataset Info:\\n\")\n",
    "print(df.info())\n",
    "\n",
    "print(\"\\n✅ Summary Statistics:\\n\")\n",
    "print(df.describe())\n",
    "\n",
    "print(\"\\n✅ Missing Values:\\n\")\n",
    "print(df.isnull().sum())\n"
   ]
  },
  {
   "cell_type": "code",
   "execution_count": 4,
   "id": "9f200e7d",
   "metadata": {},
   "outputs": [
    {
     "name": "stdout",
     "output_type": "stream",
     "text": [
      "✅ No missing values found.\n"
     ]
    }
   ],
   "source": [
    "# Only run if missing values exist\n",
    "missing = df.isnull().sum()\n",
    "missing = missing[missing > 0]\n",
    "\n",
    "if not missing.empty:\n",
    "    plt.figure(figsize=(8, 4))\n",
    "    sns.barplot(x=missing.values, y=missing.index, palette='magma')\n",
    "    plt.title(\"Missing Values by Feature\")\n",
    "    plt.tight_layout()\n",
    "    plt.savefig(\"../visuals/missing_values.png\")\n",
    "    plt.show()\n",
    "else:\n",
    "    print(\"✅ No missing values found.\")\n"
   ]
  },
  {
   "cell_type": "code",
   "execution_count": 6,
   "id": "84cb31d8",
   "metadata": {},
   "outputs": [
    {
     "data": {
      "image/png": "[encoded data removed]",
      "text/plain": [
       "<Figure size 1000x800 with 2 Axes>"
      ]
     },
     "metadata": {},
     "output_type": "display_data"
    }
   ],
   "source": [
    "# Visualizing correlation among numeric features only\n",
    "numeric_df = df.select_dtypes(include=np.number)\n",
    "\n",
    "plt.figure(figsize=(10, 8))\n",
    "sns.heatmap(numeric_df.corr(), annot=True, cmap='coolwarm', fmt='.2f')\n",
    "plt.title('Correlation Heatmap of Numeric Features')\n",
    "plt.tight_layout()\n",
    "plt.savefig('../visuals/correlation_heatmap.png')\n",
    "plt.show()\n"
   ]
  },
  {
   "cell_type": "code",
   "execution_count": 7,
   "id": "71b6d347",
   "metadata": {},
   "outputs": [
    {
     "name": "stdout",
     "output_type": "stream",
     "text": [
      "✅ Features selected for modeling: ['area', 'bedrooms', 'bathrooms']\n"
     ]
    }
   ],
   "source": [
    "# Selecting top features based on correlation with price\n",
    "features = ['area', 'bedrooms', 'bathrooms']  # Adjust this based on your dataset's columns\n",
    "target = 'price'\n",
    "\n",
    "X = df[features]\n",
    "y = df[target]\n",
    "\n",
    "print(\"✅ Features selected for modeling:\", features)\n"
   ]
  },
  {
   "cell_type": "code",
   "execution_count": 20,
   "id": "da779c8b",
   "metadata": {},
   "outputs": [
    {
     "name": "stdout",
     "output_type": "stream",
     "text": [
      "✅ Using only numeric features for linear regression:\n",
      " ['price', 'area', 'bedrooms', 'bathrooms', 'stories', 'parking']\n"
     ]
    }
   ],
   "source": [
    "# Optional Quick Fix: Drop non-numeric columns (like 'yes', 'no', strings)\n",
    "df_numeric = df.select_dtypes(include=[np.number])\n",
    "print(\"✅ Using only numeric features for linear regression:\\n\", df_numeric.columns.tolist())\n",
    "\n",
    "# Prepare X and y\n",
    "X = df_numeric.drop('price', axis=1)  # Assuming 'price' is your target column\n",
    "y = df_numeric['price']\n"
   ]
  },
  {
   "cell_type": "code",
   "execution_count": 24,
   "id": "ecd627bf",
   "metadata": {},
   "outputs": [],
   "source": [
    "from sklearn.preprocessing import StandardScaler\n",
    "\n",
    "scaler = StandardScaler()\n",
    "X_train_scaled = scaler.fit_transform(X_train)\n",
    "X_test_scaled = scaler.transform(X_test)\n",
    "\n",
    "# Fit model on scaled data\n",
    "model.fit(X_train_scaled, y_train)\n",
    "\n",
    "# Predict\n",
    "y_pred = model.predict(X_test_scaled)\n"
   ]
  },
  {
   "cell_type": "code",
   "execution_count": 25,
   "id": "58a76d24",
   "metadata": {},
   "outputs": [
    {
     "name": "stdout",
     "output_type": "stream",
     "text": [
      "✅ Training set size: (436, 5)\n",
      "✅ Testing set size: (109, 5)\n"
     ]
    }
   ],
   "source": [
    "# Split data into training and test sets\n",
    "X_train, X_test, y_train, y_test = train_test_split(X, y, test_size=0.2, random_state=42)\n",
    "\n",
    "print(f\"✅ Training set size: {X_train.shape}\")\n",
    "print(f\"✅ Testing set size: {X_test.shape}\")\n"
   ]
  },
  {
   "cell_type": "code",
   "execution_count": 26,
   "id": "b6ab1d70",
   "metadata": {},
   "outputs": [
    {
     "name": "stdout",
     "output_type": "stream",
     "text": [
      "✅ Linear Regression model trained successfully.\n"
     ]
    }
   ],
   "source": [
    "# Initialize and fit linear regression\n",
    "model = LinearRegression()\n",
    "model.fit(X_train, y_train)\n",
    "\n",
    "print(\"✅ Linear Regression model trained successfully.\")\n"
   ]
  },
  {
   "cell_type": "code",
   "execution_count": 28,
   "id": "eb78d385",
   "metadata": {},
   "outputs": [
    {
     "name": "stdout",
     "output_type": "stream",
     "text": [
      "\n",
      "✅ Model Coefficients:\n",
      "      Feature   Coefficient\n",
      "0       area  3.088670e+02\n",
      "1   bedrooms  1.512468e+05\n",
      "2  bathrooms  1.185732e+06\n",
      "3    stories  4.951008e+05\n",
      "4    parking  3.376608e+05\n",
      "\n",
      "✅ Intercept: 51999.67680883687\n"
     ]
    }
   ],
   "source": [
    "# Display coefficients safely\n",
    "coefficients = pd.DataFrame({\n",
    "    'Feature': X_train.columns if hasattr(X_train, 'columns') else [f'Feature_{i}' for i in range(len(model.coef_))],\n",
    "    'Coefficient': model.coef_\n",
    "})\n",
    "\n",
    "print(\"\\n✅ Model Coefficients:\\n\", coefficients)\n",
    "print(f\"\\n✅ Intercept: {model.intercept_}\")\n"
   ]
  },
  {
   "cell_type": "code",
   "execution_count": 29,
   "id": "24bdb908",
   "metadata": {},
   "outputs": [
    {
     "name": "stdout",
     "output_type": "stream",
     "text": [
      "✅ Mean Absolute Error (MAE): 1,265,275.67\n",
      "✅ Mean Squared Error (MSE): 2,750,040,479,309.05\n",
      "✅ Root Mean Squared Error (RMSE): 1,658,324.60\n",
      "✅ R² Score: 0.46\n",
      "\n",
      "⚠️ Note: Model performance is low.\n",
      "Further feature engineering and better models needed.\n"
     ]
    }
   ],
   "source": [
    "from sklearn.metrics import mean_absolute_error, mean_squared_error, r2_score\n",
    "import numpy as np\n",
    "\n",
    "# Calculate evaluation metrics\n",
    "mae = mean_absolute_error(y_test, y_pred)\n",
    "mse = mean_squared_error(y_test, y_pred)\n",
    "rmse = np.sqrt(mse)\n",
    "r2 = r2_score(y_test, y_pred)\n",
    "\n",
    "print(f\"✅ Mean Absolute Error (MAE): {mae:,.2f}\")\n",
    "print(f\"✅ Mean Squared Error (MSE): {mse:,.2f}\")\n",
    "print(f\"✅ Root Mean Squared Error (RMSE): {rmse:,.2f}\")\n",
    "print(f\"✅ R² Score: {r2:.2f}\")\n",
    "\n",
    "# Feedback based on R² score\n",
    "if r2 < 0:\n",
    "    print(\"\\n❌ Warning: Negative R² Score!\")\n",
    "    print(\"The model is performing worse than simply predicting the average house price.\")\n",
    "    print(\"\\n➡️ Possible Quick Fixes Before Next Iteration:\")\n",
    "    print(\"- Drop or encode non-numeric features\")\n",
    "    print(\"- Normalize / scale your features\")\n",
    "    print(\"- Check data for outliers\")\n",
    "    print(\"- Try advanced models: Ridge, Lasso, Decision Trees, etc.\")\n",
    "elif r2 < 0.5:\n",
    "    print(\"\\n⚠️ Note: Model performance is low.\")\n",
    "    print(\"Further feature engineering and better models needed.\")\n",
    "else:\n",
    "    print(\"\\n✅ Good Job! Model shows acceptable predictive power.\")\n"
   ]
  },
  {
   "cell_type": "code",
   "execution_count": 12,
   "id": "9d151a74",
   "metadata": {},
   "outputs": [
    {
     "data": {
      "image/png": "[encoded data removed]",
      "text/plain": [
       "<Figure size 800x600 with 1 Axes>"
      ]
     },
     "metadata": {},
     "output_type": "display_data"
    }
   ],
   "source": [
    "plt.figure(figsize=(8, 6))\n",
    "plt.scatter(y_test, y_pred, color='blue', edgecolor='k', alpha=0.7)\n",
    "plt.plot([y_test.min(), y_test.max()], [y_test.min(), y_test.max()], color='red', linewidth=2)\n",
    "plt.xlabel('Actual Prices')\n",
    "plt.ylabel('Predicted Prices')\n",
    "plt.title('Actual vs Predicted House Prices')\n",
    "plt.tight_layout()\n",
    "plt.savefig('../visuals/actual_vs_predicted.png')\n",
    "plt.show()\n"
   ]
  },
  {
   "cell_type": "code",
   "execution_count": 13,
   "id": "2bf10b85",
   "metadata": {},
   "outputs": [
    {
     "data": {
      "image/png": "[encoded data removed]",
      "text/plain": [
       "<Figure size 800x600 with 1 Axes>"
      ]
     },
     "metadata": {},
     "output_type": "display_data"
    }
   ],
   "source": [
    "# Distribution of residual errors\n",
    "residuals = y_test - y_pred\n",
    "\n",
    "plt.figure(figsize=(8, 6))\n",
    "sns.histplot(residuals, kde=True, color='purple')\n",
    "plt.title('Distribution of Residuals')\n",
    "plt.xlabel('Residual Error')\n",
    "plt.tight_layout()\n",
    "plt.savefig('../visuals/residuals_distribution.png')\n",
    "plt.show()\n"
   ]
  },
  {
   "cell_type": "code",
   "execution_count": 14,
   "id": "91164ebb",
   "metadata": {},
   "outputs": [
    {
     "data": {
      "application/vnd.plotly.v1+json": {
       "config": {
        "plotlyServerURL": "https://plot.ly"
       },
       "data": [
        {
         "hovertemplate": "area=%{x}<br>bedrooms=%{y}<br>price=%{z}<br>bathrooms=%{marker.color}<extra></extra>",
         "legendgroup": "",
         "marker": {
          "color": {
           "bdata": "AgQCAgEDAwMBAgEDAgICAQICAgIBAgECAgICAQICAgECAwECAgIBAgECAgICAgIBAgICAQICAgEBAgICAgECAgECAQIBAgICAQIBAgICAQIBAgICAQIBAQEDAQECAgICAQECAQIBAgICAQIBAQIBAQIBAQECAQEBAQECAgIBAQIBAQEBAQEBAgIBAQECAgICAQEBAgECAQEBAwICAQIBAgEBAgECAgECAQICAQECAQIBAQECAgEBAQIBAQEBAQEBAQECAwECAQEBAQEBAQEBAQEBAQECAgEBAQEBAQECAQEBAQEBAQIBAQEBAgEBAQIBAQEBAQEBAQECAgEBAQEBAQEBAQEBAQEBAQEBAQEBAgEBAQEBAQEBAQEBAQEBAQEBAQEDAQIBAgECAgEBAQEBAQEBAQEBAQEBAQIBAQICAQEBAgIBAQEBAQIBAQIBAQEBAQIBAgICAQEBAQEBAgEBAQEBAQECAQEBAQEBAQEBAQEBAQEBAQECAQICAQEBAQECAQEBAQEBAgEBAQEBAQEBAQEBAQEBAQEBAQEBAQECAQEBAQEBAQEBAQEBAQEBAQEBAQEBAQEBAQEBAQEBAQECAQEBAQEBAQEBAQEBAQEBAQEBAQEBAQEBAQEBAQEBAQEBAQEBAQEBAQEBAQEBAQEBAQEBAQMBAQEBAQEBAQECAQEBAQEBAQEBAQEBAQIBAQEBAQEBAQEBAQEBAQEBAQEBAQE=",
           "dtype": "i1"
          },
          "coloraxis": "coloraxis",
          "symbol": "circle"
         },
         "mode": "markers",
         "name": "",
         "scene": "scene",
         "showlegend": false,
         "type": "scatter3d",
         "x": {
          "bdata": "/BwAI+gmTB38HEwdhCFIP6QfdhaQM3AXlhmsDXgecBfIGTQh+BEUGeAQ8xtyH9ARYCKMGXAXqyIOH3wVMx1YGxATSBe4GlgbOh0oI3AXcBeWGdgYUBlwF3AXcBdwF8gZzBAQHRAdtRhwFx4UcBdwF7AsKCMAHnAXcBewImAY2BinK7AikDMUHnAXOi+gD3AXnBPIGcgPpBAUGWQZRBZwF3AXoA8EKXAXsA46IA4aeA/yHIQhiBNeGsASIBxwFwQQKCMAGcgZcBfIGXwVfBXOGHwVlBFKFRQZqAzXGcgZtCDMEJQlkBpAH/QadA4UGWwbjBk/HG4YmBx9GfA8+BtkGXwVxCzAEsQWUBTAElgbcBcYFSASiBPYGKgWBBoEKcASXBKIEwQpfBXYGMgZEBQwERgV5AxCDtQX9BoBCywfTgxCGNQXyBmpGjYaMhl4HvgRpBCMGXwVHSjQILQU2A5IJkghohetG2wMlBEgHFINLB+4C7gLkizUF1gW1A2wHcwpyBnAEtYfOhEGHvAKPBdoEKgR/w8YEBgVohKcGKgWuAuaC0AaJhJkMlwNgxP+EEAQmBfOGs8SWBukH1wNziOxGAAoKBkyFHAXLg7DJRgV4BChDkAQKA8wFjYLkhOeEaAPAA+wDjgO9gnIFPAUwA3QIAQQfhO2DXoNhCbADZ4R/RagDzogyA/YGFoMtg2mDoAPJBNACxATOBNWEzwPlBFxB+sPrA0yGcAPMBF4KEgN2BjYGJQRfwgIEVoe+hnjCnwVsBPaFjIKiQu7CjoRoA8VCfgROA6oFlgb7w/ADWEIlBE6IHoN6BLwD84PGBJhF6wXEA5gDsgP4BUMF4AT9BC4C+AQLg6EDRgVlBGEDQQQUBmUEXgP0g9cHHwVuAvaDOgOkB9hCMQObAy0FGwM8BvwDwoP3weACBYNTgzUElwNEA7GFigL0CA6INgJEhuYDRAOyA+EF9IPAA4wDEoVLg4uDggWEA64EPINbAy4C8ANSBciECIL4wjADZQRoA9ODJQRlBE4DgoPkBBCDvgRVwjcC5YPAB2YDRAOOA4MFzAMthy4DRwl+BaQMiQT9AvIFGEIoA9xDAoPYQgyCp4HyA+xEnoNOA6sDWATGBCOEogOpg4cDHEMjAphCMgPpxLECWwMrBeYDdAOyA9hCPgWlBFaDzgOEhF8CuAQMAx6DZIPrA3/D3IGeg1eGigj/QuUEXcVXgm4CwoPrA2kH2ATcAgSDJQR2A4SDKgMEwv4EdQTpg4uDnIfABG4C9oWYBMQDkwOmA2MCk4M1xngCy4OcBcYFVAU5Az+EFAKWgp4D5AaoA+gD14P0AcuDvAKfgmYDaAPcQygD14LEA4wERAOQAtsDLgLMBG4C4oMqAy4C6wN6BIUHjMOqwnjCsAMOA5sDCwHgg+CD54HtBS4C2AJuAsgDVwNpAZBDq4LuAtgCSQOXgsKDw==",
          "dtype": "i2"
         },
         "y": {
          "bdata": "BAQDBAQDBAUEAwMEBAQDBAQDAwMDAwMDAwQDAwUEAwMEAwUDAwQDBAMDAwQEAwMDAwMDAwQDAwMEBAQDAwIEBAMDAgMDBAMEAwIDBAMDAwMDAwMDAwMDAwMFAwIDAwQDAwMDBAMDAwMDAwQDBAQDAwYDAgMDBAMDAwMEBAMDAwMDAwMEAwMDAwQEAwMDBAQFBAMCAwMEAwQFAwMDAwQDAwQDBAMDAwMCBAQDAwMEAwQDAwMDBAMDAwMDAgMCAgQDAwIDBAMDAwMDAwIEAwMCAwMDAwMEBAIDAwMCAwQEAgMCAgMCAwQCAwMDAwMCAwQDAwMDAwMDAwQCBAMDAwIEAgMDAwIDAwIDAgMDAwQDAwUDBAQCAgIDAgICAwQCAwMDAwIEAwQCBAMDAwMDAwMDAwMDAwMDBAMCAwMCAgQDAwQDAwMDAwQEAwMDAgMEAwICAwQCBAUCAwICAwIDAgMCAgIDAgMFBAIDAgMCAgMCAgICAgIDAwICAwMDAwMCAgMEAgIDAwMEAwMDAwMGAgIDAgIDAgMDAwIDAgIDAwMDAgMDAgQEAgICAwMCAwMCBAIEAwQEAgMDAgIEAwIDAwECAgIDAwIDAgMDAwMDAgICAwICAgMDAgIDAwQCBAIDAgMEAwIDAwICAgQEAwMCAwMCAwICAgMDAwIDAgMCAgICAwMCAwMDAgICAgICAwQCAgICAQMDAwIDBAIFAwICAgMCAwM=",
          "dtype": "i1"
         },
         "z": {
          "bdata": "IPHKAJDrugCQ67oA2GK6AFAargDQjqUAcOCaAHDgmgCwmpYAQImVAECJlQBouJMAMA+OAMD9jADA/YwA4NqKAODaigAAuIgAkKaHANgdhwCwg4UAQHKEAIjpgwCI6YMAGNiCAGBPggCYIoEAgCyAAIAsgACALIAAgCyAAIAsgABYkn4AMPh8AMDmewAsTnsA+Ll6AODDeQCEf3kAcLJ4ALgpeAAAoXcAIH51ACB+dQBAW3MAQFtzAIjScgDQSXIAGMFxAGA4cQBgOHEAYDhxAPAmcADwJnAA8CZwAPAmcACYC3AAyIxuABAEbgAQBG4AoPJsADDhawAw4WsAeFhrAMDPagBQvmkAUL5pAJg1aQDgrGgAcJtnAHCbZwC4EmcAAIpmAEgBZgCQeGUAkHhlAJB4ZQCQeGUAkHhlAJB4ZQCIJmUA2O9kANjvZAAgZ2QAsFVjALBVYwCwVWMA+MxiAPjMYgBARGIAQERiADjyYQCIu2EAYCFgAGAhYABgIWAAYCFgAGAhYAAIBmAAqJhfAPAPXwDwD18AOIdeADiHXgA4h14AgP5dAID+XQDIdV0AbDFdABDtXAAQ7VwAEO1cALjRXAC40VwAoNtbAKDbWwCg21sAMMpaADDKWgAwyloAMMpaADDKWgAwyloAMMpaADDKWgDYrloAwLhZAMC4WQBonVkAaJ1ZABCCWQBQp1gAUKdYAFCnWAD4i1gAmB5YAOCVVwDglVcA4JVXAOCVVwDglVcAFEBWAABzVQAAc1UAAHNVAABzVQAAc1UAAHNVAABzVQAAc1UAAHNVAEjqVABI6lQAkGFUAJBhVACQYVQAOEZUANjYUwDY2FMAIFBTACBQUwAgUFMAIFBTAGjHUgCwPlIAWCNSAEAtUQCIpFAA0BtQANAbUADQG1AA0BtQANAbUADQG1AA0BtQANAbUADQG1AAeABQAMjJTwAYk08AGJNPABiTTwCogU4AqIFOAPD4TQDw+E0A8PhNAPD4TQA4cE0AgOdMAIDnTACA50wAgOdMACjMTADIXkwAENZLABDWSwBgn0sAWE1LAPjfSgCgxEoAoMRKAKDESgCgxEoAoMRKAKDESgCgxEoAoMRKAKDESgCgxEoAoMRKAKDESgBIqUoASKlKAOg7SgAws0kAMLNJADCzSQAws0kAeCpJAHgqSQAYvUgAwKFIAMChSADAoUgAaIZIAFCQRwBQkEcAUJBHAFCQRwBQkEcAUJBHAJgHRwDgfkYA4H5GAOB+RgDgfkYA4H5GAIhjRgAo9kUAKPZFAHBtRQBwbUUAcG1FAHBtRQBwbUUAcG1FAHBtRQAYUkUAGFJFALjkRAC45EQAuOREALjkRAAAXEQAAFxEAABcRAAAXEQAAFxEAKhARACoQEQAqEBEAEjTQwCQSkMAkEpDADgvQwA4L0MAOC9DADDdQgDYwUIAIDlCACA5QgAgOUIAIDlCACA5QgAY50EAaLBBAGiwQQAIQ0EAsCdBALAnQQCwJ0EAsCdBALAnQQCwJ0EA+J5AAPieQABAFkAAQBZAAEAWQABAFkAAQBZAAEAWQABAFkAAQBZAAEAWQABAFkAAQBZAAEAWQABAFkAAQBZAAEAWQABAFkAAQBZAAOj6PwDo+j8AiI0/AIiNPwCIjT8A0AQ/ANAEPwB46T4AxIk+ABh8PgAYfD4AGHw+AGDzPQBg8z0AYPM9AGDzPQBg8z0AqGo9AKhqPQCoaj0ATCY9AEwmPQDw4TwA8OE8APDhPADw4TwA8OE8AIDQOwCA0DsAgNA7AIDQOwCA0DsAgNA7AIDQOwDIRzsAyEc7ABC/OgAQvzoAEL86ABC/OgAQvzoAEL86ABC/OgBgiDoAWDY6AKCtOQCgrTkAoK05AKCtOQCgrTkAoK05AEiSOQBIkjkASJI5AOgkOQAwnDgAMJw4ADCcOAAwnDgAMJw4ANiAOADYgDgAeBM4AHgTOAB4EzgAeBM4AMCKNwDAijcAwIo3AMCKNwDAijcAwIo3AMCKNwDAijcAwIo3AGhvNwAIAjcACAI3AFB5NgBQeTYAUHk2AFB5NgCY8DUA4Gc1AOBnNQDgZzUA4Gc1AOBnNQDgZzUA4Gc1AOBnNQDgZzUA4Gc1AOBnNQDgZzUA4Gc1AOBnNQDgZzUA4Gc1AOBnNQCITDUAKN80ACjfNAAo3zQAcFY0AHBWNABwVjQAcFY0AHBWNABwVjQAGDs0ALjNMwC4zTMAuM0zAABFMwAARTMAAEUzAABFMwAARTMAAEUzAABFMwAARTMAqCkzAKDXMgBIvDIASLwyAJAzMgCQMzIAkDMyAJAzMgCQMzIAkDMyAJAzMgCQMzIA2KoxANiqMQDQWDEAICIxACAiMQAgIjEAICIxALAQMACwEDAAsBAwALAQMACwEDAAsBAwALAQMACwEDAAsBAwAFj1LwCovi8AApcvAPiHLwD4hy8A+IcvAJgaLwBA/y4AQP8uAED/LgBA/y4AiHYuANDtLQDQ7S0A0O0tANDtLQDQ7S0A0O0tANDtLQB40i0AGGUtAGguLQBg3CwAYNwsAGDcLABg3CwAYNwsAGDcLABg3CwAYNwsAPDKKwDwyisA8MorAPDKKwCUhisAOEIrADhCKwA4QisAgLkqAIC5KgAQqCkAEKgpAFgfKQCgligAoJYoAKCWKACgligAoJYoAKCWKACgligASHsoAEh7KADguycAMIUnADCFJwAwhScAwHMmAMBzJgDAcyYACOslAAjrJQBQYiUAUGIlAFBiJQBQYiUAUGIlAFBiJQBAviQA4FAkAOBQJADgUCQAKMgjAHA/IwC4tiIAuLYiALi2IgAALiIAqBIiANiTIAAgCyAAIAsgACALIABA6B0A0NYcANDWHAAYThwAYMUbAO72GgDwsxoA8LMaAPCzGgA=",
          "dtype": "i4"
         }
        }
       ],
       "layout": {
        "coloraxis": {
         "colorbar": {
          "title": {
           "text": "bathrooms"
          }
         },
         "colorscale": [
          [
           0,
           "#0d0887"
          ],
          [
           0.1111111111111111,
           "#46039f"
          ],
          [
           0.2222222222222222,
           "#7201a8"
          ],
          [
           0.3333333333333333,
           "#9c179e"
          ],
          [
           0.4444444444444444,
           "#bd3786"
          ],
          [
           0.5555555555555556,
           "#d8576b"
          ],
          [
           0.6666666666666666,
           "#ed7953"
          ],
          [
           0.7777777777777778,
           "#fb9f3a"
          ],
          [
           0.8888888888888888,
           "#fdca26"
          ],
          [
           1,
           "#f0f921"
          ]
         ]
        },
        "legend": {
         "tracegroupgap": 0
        },
        "scene": {
         "domain": {
          "x": [
           0,
           1
          ],
          "y": [
           0,
           1
          ]
         },
         "xaxis": {
          "title": {
           "text": "area"
          }
         },
         "yaxis": {
          "title": {
           "text": "bedrooms"
          }
         },
         "zaxis": {
          "title": {
           "text": "price"
          }
         }
        },
        "template": {
         "data": {
          "bar": [
           {
            "error_x": {
             "color": "#f2f5fa"
            },
            "error_y": {
             "color": "#f2f5fa"
            },
            "marker": {
             "line": {
              "color": "rgb(17,17,17)",
              "width": 0.5
             },
             "pattern": {
              "fillmode": "overlay",
              "size": 10,
              "solidity": 0.2
             }
            },
            "type": "bar"
           }
          ],
          "barpolar": [
           {
            "marker": {
             "line": {
              "color": "rgb(17,17,17)",
              "width": 0.5
             },
             "pattern": {
              "fillmode": "overlay",
              "size": 10,
              "solidity": 0.2
             }
            },
            "type": "barpolar"
           }
          ],
          "carpet": [
           {
            "aaxis": {
             "endlinecolor": "#A2B1C6",
             "gridcolor": "#506784",
             "linecolor": "#506784",
             "minorgridcolor": "#506784",
             "startlinecolor": "#A2B1C6"
            },
            "baxis": {
             "endlinecolor": "#A2B1C6",
             "gridcolor": "#506784",
             "linecolor": "#506784",
             "minorgridcolor": "#506784",
             "startlinecolor": "#A2B1C6"
            },
            "type": "carpet"
           }
          ],
          "choropleth": [
           {
            "colorbar": {
             "outlinewidth": 0,
             "ticks": ""
            },
            "type": "choropleth"
           }
          ],
          "contour": [
           {
            "colorbar": {
             "outlinewidth": 0,
             "ticks": ""
            },
            "colorscale": [
             [
              0,
              "#0d0887"
             ],
             [
              0.1111111111111111,
              "#46039f"
             ],
             [
              0.2222222222222222,
              "#7201a8"
             ],
             [
              0.3333333333333333,
              "#9c179e"
             ],
             [
              0.4444444444444444,
              "#bd3786"
             ],
             [
              0.5555555555555556,
              "#d8576b"
             ],
             [
              0.6666666666666666,
              "#ed7953"
             ],
             [
              0.7777777777777778,
              "#fb9f3a"
             ],
             [
              0.8888888888888888,
              "#fdca26"
             ],
             [
              1,
              "#f0f921"
             ]
            ],
            "type": "contour"
           }
          ],
          "contourcarpet": [
           {
            "colorbar": {
             "outlinewidth": 0,
             "ticks": ""
            },
            "type": "contourcarpet"
           }
          ],
          "heatmap": [
           {
            "colorbar": {
             "outlinewidth": 0,
             "ticks": ""
            },
            "colorscale": [
             [
              0,
              "#0d0887"
             ],
             [
              0.1111111111111111,
              "#46039f"
             ],
             [
              0.2222222222222222,
              "#7201a8"
             ],
             [
              0.3333333333333333,
              "#9c179e"
             ],
             [
              0.4444444444444444,
              "#bd3786"
             ],
             [
              0.5555555555555556,
              "#d8576b"
             ],
             [
              0.6666666666666666,
              "#ed7953"
             ],
             [
              0.7777777777777778,
              "#fb9f3a"
             ],
             [
              0.8888888888888888,
              "#fdca26"
             ],
             [
              1,
              "#f0f921"
             ]
            ],
            "type": "heatmap"
           }
          ],
          "histogram": [
           {
            "marker": {
             "pattern": {
              "fillmode": "overlay",
              "size": 10,
              "solidity": 0.2
             }
            },
            "type": "histogram"
           }
          ],
          "histogram2d": [
           {
            "colorbar": {
             "outlinewidth": 0,
             "ticks": ""
            },
            "colorscale": [
             [
              0,
              "#0d0887"
             ],
             [
              0.1111111111111111,
              "#46039f"
             ],
             [
              0.2222222222222222,
              "#7201a8"
             ],
             [
              0.3333333333333333,
              "#9c179e"
             ],
             [
              0.4444444444444444,
              "#bd3786"
             ],
             [
              0.5555555555555556,
              "#d8576b"
             ],
             [
              0.6666666666666666,
              "#ed7953"
             ],
             [
              0.7777777777777778,
              "#fb9f3a"
             ],
             [
              0.8888888888888888,
              "#fdca26"
             ],
             [
              1,
              "#f0f921"
             ]
            ],
            "type": "histogram2d"
           }
          ],
          "histogram2dcontour": [
           {
            "colorbar": {
             "outlinewidth": 0,
             "ticks": ""
            },
            "colorscale": [
             [
              0,
              "#0d0887"
             ],
             [
              0.1111111111111111,
              "#46039f"
             ],
             [
              0.2222222222222222,
              "#7201a8"
             ],
             [
              0.3333333333333333,
              "#9c179e"
             ],
             [
              0.4444444444444444,
              "#bd3786"
             ],
             [
              0.5555555555555556,
              "#d8576b"
             ],
             [
              0.6666666666666666,
              "#ed7953"
             ],
             [
              0.7777777777777778,
              "#fb9f3a"
             ],
             [
              0.8888888888888888,
              "#fdca26"
             ],
             [
              1,
              "#f0f921"
             ]
            ],
            "type": "histogram2dcontour"
           }
          ],
          "mesh3d": [
           {
            "colorbar": {
             "outlinewidth": 0,
             "ticks": ""
            },
            "type": "mesh3d"
           }
          ],
          "parcoords": [
           {
            "line": {
             "colorbar": {
              "outlinewidth": 0,
              "ticks": ""
             }
            },
            "type": "parcoords"
           }
          ],
          "pie": [
           {
            "automargin": true,
            "type": "pie"
           }
          ],
          "scatter": [
           {
            "marker": {
             "line": {
              "color": "#283442"
             }
            },
            "type": "scatter"
           }
          ],
          "scatter3d": [
           {
            "line": {
             "colorbar": {
              "outlinewidth": 0,
              "ticks": ""
             }
            },
            "marker": {
             "colorbar": {
              "outlinewidth": 0,
              "ticks": ""
             }
            },
            "type": "scatter3d"
           }
          ],
          "scattercarpet": [
           {
            "marker": {
             "colorbar": {
              "outlinewidth": 0,
              "ticks": ""
             }
            },
            "type": "scattercarpet"
           }
          ],
          "scattergeo": [
           {
            "marker": {
             "colorbar": {
              "outlinewidth": 0,
              "ticks": ""
             }
            },
            "type": "scattergeo"
           }
          ],
          "scattergl": [
           {
            "marker": {
             "line": {
              "color": "#283442"
             }
            },
            "type": "scattergl"
           }
          ],
          "scattermap": [
           {
            "marker": {
             "colorbar": {
              "outlinewidth": 0,
              "ticks": ""
             }
            },
            "type": "scattermap"
           }
          ],
          "scattermapbox": [
           {
            "marker": {
             "colorbar": {
              "outlinewidth": 0,
              "ticks": ""
             }
            },
            "type": "scattermapbox"
           }
          ],
          "scatterpolar": [
           {
            "marker": {
             "colorbar": {
              "outlinewidth": 0,
              "ticks": ""
             }
            },
            "type": "scatterpolar"
           }
          ],
          "scatterpolargl": [
           {
            "marker": {
             "colorbar": {
              "outlinewidth": 0,
              "ticks": ""
             }
            },
            "type": "scatterpolargl"
           }
          ],
          "scatterternary": [
           {
            "marker": {
             "colorbar": {
              "outlinewidth": 0,
              "ticks": ""
             }
            },
            "type": "scatterternary"
           }
          ],
          "surface": [
           {
            "colorbar": {
             "outlinewidth": 0,
             "ticks": ""
            },
            "colorscale": [
             [
              0,
              "#0d0887"
             ],
             [
              0.1111111111111111,
              "#46039f"
             ],
             [
              0.2222222222222222,
              "#7201a8"
             ],
             [
              0.3333333333333333,
              "#9c179e"
             ],
             [
              0.4444444444444444,
              "#bd3786"
             ],
             [
              0.5555555555555556,
              "#d8576b"
             ],
             [
              0.6666666666666666,
              "#ed7953"
             ],
             [
              0.7777777777777778,
              "#fb9f3a"
             ],
             [
              0.8888888888888888,
              "#fdca26"
             ],
             [
              1,
              "#f0f921"
             ]
            ],
            "type": "surface"
           }
          ],
          "table": [
           {
            "cells": {
             "fill": {
              "color": "#506784"
             },
             "line": {
              "color": "rgb(17,17,17)"
             }
            },
            "header": {
             "fill": {
              "color": "#2a3f5f"
             },
             "line": {
              "color": "rgb(17,17,17)"
             }
            },
            "type": "table"
           }
          ]
         },
         "layout": {
          "annotationdefaults": {
           "arrowcolor": "#f2f5fa",
           "arrowhead": 0,
           "arrowwidth": 1
          },
          "autotypenumbers": "strict",
          "coloraxis": {
           "colorbar": {
            "outlinewidth": 0,
            "ticks": ""
           }
          },
          "colorscale": {
           "diverging": [
            [
             0,
             "#8e0152"
            ],
            [
             0.1,
             "#c51b7d"
            ],
            [
             0.2,
             "#de77ae"
            ],
            [
             0.3,
             "#f1b6da"
            ],
            [
             0.4,
             "#fde0ef"
            ],
            [
             0.5,
             "#f7f7f7"
            ],
            [
             0.6,
             "#e6f5d0"
            ],
            [
             0.7,
             "#b8e186"
            ],
            [
             0.8,
             "#7fbc41"
            ],
            [
             0.9,
             "#4d9221"
            ],
            [
             1,
             "#276419"
            ]
           ],
           "sequential": [
            [
             0,
             "#0d0887"
            ],
            [
             0.1111111111111111,
             "#46039f"
            ],
            [
             0.2222222222222222,
             "#7201a8"
            ],
            [
             0.3333333333333333,
             "#9c179e"
            ],
            [
             0.4444444444444444,
             "#bd3786"
            ],
            [
             0.5555555555555556,
             "#d8576b"
            ],
            [
             0.6666666666666666,
             "#ed7953"
            ],
            [
             0.7777777777777778,
             "#fb9f3a"
            ],
            [
             0.8888888888888888,
             "#fdca26"
            ],
            [
             1,
             "#f0f921"
            ]
           ],
           "sequentialminus": [
            [
             0,
             "#0d0887"
            ],
            [
             0.1111111111111111,
             "#46039f"
            ],
            [
             0.2222222222222222,
             "#7201a8"
            ],
            [
             0.3333333333333333,
             "#9c179e"
            ],
            [
             0.4444444444444444,
             "#bd3786"
            ],
            [
             0.5555555555555556,
             "#d8576b"
            ],
            [
             0.6666666666666666,
             "#ed7953"
            ],
            [
             0.7777777777777778,
             "#fb9f3a"
            ],
            [
             0.8888888888888888,
             "#fdca26"
            ],
            [
             1,
             "#f0f921"
            ]
           ]
          },
          "colorway": [
           "#636efa",
           "#EF553B",
           "#00cc96",
           "#ab63fa",
           "#FFA15A",
           "#19d3f3",
           "#FF6692",
           "#B6E880",
           "#FF97FF",
           "#FECB52"
          ],
          "font": {
           "color": "#f2f5fa"
          },
          "geo": {
           "bgcolor": "rgb(17,17,17)",
           "lakecolor": "rgb(17,17,17)",
           "landcolor": "rgb(17,17,17)",
           "showlakes": true,
           "showland": true,
           "subunitcolor": "#506784"
          },
          "hoverlabel": {
           "align": "left"
          },
          "hovermode": "closest",
          "mapbox": {
           "style": "dark"
          },
          "paper_bgcolor": "rgb(17,17,17)",
          "plot_bgcolor": "rgb(17,17,17)",
          "polar": {
           "angularaxis": {
            "gridcolor": "#506784",
            "linecolor": "#506784",
            "ticks": ""
           },
           "bgcolor": "rgb(17,17,17)",
           "radialaxis": {
            "gridcolor": "#506784",
            "linecolor": "#506784",
            "ticks": ""
           }
          },
          "scene": {
           "xaxis": {
            "backgroundcolor": "rgb(17,17,17)",
            "gridcolor": "#506784",
            "gridwidth": 2,
            "linecolor": "#506784",
            "showbackground": true,
            "ticks": "",
            "zerolinecolor": "#C8D4E3"
           },
           "yaxis": {
            "backgroundcolor": "rgb(17,17,17)",
            "gridcolor": "#506784",
            "gridwidth": 2,
            "linecolor": "#506784",
            "showbackground": true,
            "ticks": "",
            "zerolinecolor": "#C8D4E3"
           },
           "zaxis": {
            "backgroundcolor": "rgb(17,17,17)",
            "gridcolor": "#506784",
            "gridwidth": 2,
            "linecolor": "#506784",
            "showbackground": true,
            "ticks": "",
            "zerolinecolor": "#C8D4E3"
           }
          },
          "shapedefaults": {
           "line": {
            "color": "#f2f5fa"
           }
          },
          "sliderdefaults": {
           "bgcolor": "#C8D4E3",
           "bordercolor": "rgb(17,17,17)",
           "borderwidth": 1,
           "tickwidth": 0
          },
          "ternary": {
           "aaxis": {
            "gridcolor": "#506784",
            "linecolor": "#506784",
            "ticks": ""
           },
           "baxis": {
            "gridcolor": "#506784",
            "linecolor": "#506784",
            "ticks": ""
           },
           "bgcolor": "rgb(17,17,17)",
           "caxis": {
            "gridcolor": "#506784",
            "linecolor": "#506784",
            "ticks": ""
           }
          },
          "title": {
           "x": 0.05
          },
          "updatemenudefaults": {
           "bgcolor": "#506784",
           "borderwidth": 0
          },
          "xaxis": {
           "automargin": true,
           "gridcolor": "#283442",
           "linecolor": "#506784",
           "ticks": "",
           "title": {
            "standoff": 15
           },
           "zerolinecolor": "#283442",
           "zerolinewidth": 2
          },
          "yaxis": {
           "automargin": true,
           "gridcolor": "#283442",
           "linecolor": "#506784",
           "ticks": "",
           "title": {
            "standoff": 15
           },
           "zerolinecolor": "#283442",
           "zerolinewidth": 2
          }
         }
        },
        "title": {
         "text": "3D Visualization: Area vs Bedrooms vs Price"
        }
       }
      }
     },
     "metadata": {},
     "output_type": "display_data"
    }
   ],
   "source": [
    "fig = px.scatter_3d(\n",
    "    df, \n",
    "    x='area', \n",
    "    y='bedrooms', \n",
    "    z='price', \n",
    "    color='bathrooms', \n",
    "    title='3D Visualization: Area vs Bedrooms vs Price',\n",
    "    template='plotly_dark'\n",
    ")\n",
    "\n",
    "fig.write_image(\"../visuals/3d_scatter_plot.png\")\n",
    "fig.show()\n"
   ]
  }
 ],
 "metadata": {
  "kernelspec": {
   "display_name": "Python 3",
   "language": "python",
   "name": "python3"
  },
  "language_info": {
   "codemirror_mode": {
    "name": "ipython",
    "version": 3
   },
   "file_extension": ".py",
   "mimetype": "text/x-python",
   "name": "python",
   "nbconvert_exporter": "python",
   "pygments_lexer": "ipython3",
   "version": "3.13.3"
  }
 },
 "nbformat": 4,
 "nbformat_minor": 5
}
