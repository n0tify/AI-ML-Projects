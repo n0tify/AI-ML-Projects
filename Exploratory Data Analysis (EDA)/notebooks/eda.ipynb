{
 "cells": [
  {
   "cell_type": "code",
   "execution_count": 4,
   "id": "1d689dd2",
   "metadata": {},
   "outputs": [
    {
     "data": {
      "text/html": [
       "<div>\n",
       "<style scoped>\n",
       "    .dataframe tbody tr th:only-of-type {\n",
       "        vertical-align: middle;\n",
       "    }\n",
       "\n",
       "    .dataframe tbody tr th {\n",
       "        vertical-align: top;\n",
       "    }\n",
       "\n",
       "    .dataframe thead th {\n",
       "        text-align: right;\n",
       "    }\n",
       "</style>\n",
       "<table border=\"1\" class=\"dataframe\">\n",
       "  <thead>\n",
       "    <tr style=\"text-align: right;\">\n",
       "      <th></th>\n",
       "      <th>PassengerId</th>\n",
       "      <th>Survived</th>\n",
       "      <th>Pclass</th>\n",
       "      <th>Name</th>\n",
       "      <th>Sex</th>\n",
       "      <th>Age</th>\n",
       "      <th>SibSp</th>\n",
       "      <th>Parch</th>\n",
       "      <th>Ticket</th>\n",
       "      <th>Fare</th>\n",
       "      <th>Cabin</th>\n",
       "      <th>Embarked</th>\n",
       "    </tr>\n",
       "  </thead>\n",
       "  <tbody>\n",
       "    <tr>\n",
       "      <th>0</th>\n",
       "      <td>1</td>\n",
       "      <td>0</td>\n",
       "      <td>3</td>\n",
       "      <td>Braund, Mr. Owen Harris</td>\n",
       "      <td>male</td>\n",
       "      <td>22.0</td>\n",
       "      <td>1</td>\n",
       "      <td>0</td>\n",
       "      <td>A/5 21171</td>\n",
       "      <td>7.2500</td>\n",
       "      <td>NaN</td>\n",
       "      <td>S</td>\n",
       "    </tr>\n",
       "    <tr>\n",
       "      <th>1</th>\n",
       "      <td>2</td>\n",
       "      <td>1</td>\n",
       "      <td>1</td>\n",
       "      <td>Cumings, Mrs. John Bradley (Florence Briggs Th...</td>\n",
       "      <td>female</td>\n",
       "      <td>38.0</td>\n",
       "      <td>1</td>\n",
       "      <td>0</td>\n",
       "      <td>PC 17599</td>\n",
       "      <td>71.2833</td>\n",
       "      <td>C85</td>\n",
       "      <td>C</td>\n",
       "    </tr>\n",
       "    <tr>\n",
       "      <th>2</th>\n",
       "      <td>3</td>\n",
       "      <td>1</td>\n",
       "      <td>3</td>\n",
       "      <td>Heikkinen, Miss. Laina</td>\n",
       "      <td>female</td>\n",
       "      <td>26.0</td>\n",
       "      <td>0</td>\n",
       "      <td>0</td>\n",
       "      <td>STON/O2. 3101282</td>\n",
       "      <td>7.9250</td>\n",
       "      <td>NaN</td>\n",
       "      <td>S</td>\n",
       "    </tr>\n",
       "    <tr>\n",
       "      <th>3</th>\n",
       "      <td>4</td>\n",
       "      <td>1</td>\n",
       "      <td>1</td>\n",
       "      <td>Futrelle, Mrs. Jacques Heath (Lily May Peel)</td>\n",
       "      <td>female</td>\n",
       "      <td>35.0</td>\n",
       "      <td>1</td>\n",
       "      <td>0</td>\n",
       "      <td>113803</td>\n",
       "      <td>53.1000</td>\n",
       "      <td>C123</td>\n",
       "      <td>S</td>\n",
       "    </tr>\n",
       "    <tr>\n",
       "      <th>4</th>\n",
       "      <td>5</td>\n",
       "      <td>0</td>\n",
       "      <td>3</td>\n",
       "      <td>Allen, Mr. William Henry</td>\n",
       "      <td>male</td>\n",
       "      <td>35.0</td>\n",
       "      <td>0</td>\n",
       "      <td>0</td>\n",
       "      <td>373450</td>\n",
       "      <td>8.0500</td>\n",
       "      <td>NaN</td>\n",
       "      <td>S</td>\n",
       "    </tr>\n",
       "  </tbody>\n",
       "</table>\n",
       "</div>"
      ],
      "text/plain": [
       "   PassengerId  Survived  Pclass  \\\n",
       "0            1         0       3   \n",
       "1            2         1       1   \n",
       "2            3         1       3   \n",
       "3            4         1       1   \n",
       "4            5         0       3   \n",
       "\n",
       "                                                Name     Sex   Age  SibSp  \\\n",
       "0                            Braund, Mr. Owen Harris    male  22.0      1   \n",
       "1  Cumings, Mrs. John Bradley (Florence Briggs Th...  female  38.0      1   \n",
       "2                             Heikkinen, Miss. Laina  female  26.0      0   \n",
       "3       Futrelle, Mrs. Jacques Heath (Lily May Peel)  female  35.0      1   \n",
       "4                           Allen, Mr. William Henry    male  35.0      0   \n",
       "\n",
       "   Parch            Ticket     Fare Cabin Embarked  \n",
       "0      0         A/5 21171   7.2500   NaN        S  \n",
       "1      0          PC 17599  71.2833   C85        C  \n",
       "2      0  STON/O2. 3101282   7.9250   NaN        S  \n",
       "3      0            113803  53.1000  C123        S  \n",
       "4      0            373450   8.0500   NaN        S  "
      ]
     },
     "execution_count": 4,
     "metadata": {},
     "output_type": "execute_result"
    }
   ],
   "source": [
    "# 📦 Essential libraries for EDA and visualization\n",
    "import pandas as pd\n",
    "import numpy as np\n",
    "import matplotlib.pyplot as plt\n",
    "import seaborn as sns\n",
    "import plotly.express as px\n",
    "import plotly.io as pio\n",
    "import warnings\n",
    "\n",
    "# 🛠️ Configuration\n",
    "warnings.filterwarnings(\"ignore\")\n",
    "sns.set(style=\"whitegrid\")\n",
    "plt.rcParams[\"figure.figsize\"] = (10, 6)\n",
    "pio.kaleido.scope.default_format = \"png\"\n",
    "\n",
    "# 📂 Load the Titanic dataset\n",
    "df = pd.read_csv(\"../data/Titanic-Dataset.csv\")\n",
    "\n",
    "# 👀 Preview\n",
    "df.head()\n"
   ]
  },
  {
   "cell_type": "code",
   "execution_count": 3,
   "id": "de3506d4",
   "metadata": {},
   "outputs": [
    {
     "name": "stdout",
     "output_type": "stream",
     "text": [
      "<class 'pandas.core.frame.DataFrame'>\n",
      "RangeIndex: 891 entries, 0 to 890\n",
      "Data columns (total 12 columns):\n",
      " #   Column       Non-Null Count  Dtype  \n",
      "---  ------       --------------  -----  \n",
      " 0   PassengerId  891 non-null    int64  \n",
      " 1   Survived     891 non-null    int64  \n",
      " 2   Pclass       891 non-null    int64  \n",
      " 3   Name         891 non-null    object \n",
      " 4   Sex          891 non-null    object \n",
      " 5   Age          714 non-null    float64\n",
      " 6   SibSp        891 non-null    int64  \n",
      " 7   Parch        891 non-null    int64  \n",
      " 8   Ticket       891 non-null    object \n",
      " 9   Fare         891 non-null    float64\n",
      " 10  Cabin        204 non-null    object \n",
      " 11  Embarked     889 non-null    object \n",
      "dtypes: float64(2), int64(5), object(5)\n",
      "memory usage: 83.7+ KB\n"
     ]
    },
    {
     "data": {
      "text/html": [
       "<div>\n",
       "<style scoped>\n",
       "    .dataframe tbody tr th:only-of-type {\n",
       "        vertical-align: middle;\n",
       "    }\n",
       "\n",
       "    .dataframe tbody tr th {\n",
       "        vertical-align: top;\n",
       "    }\n",
       "\n",
       "    .dataframe thead th {\n",
       "        text-align: right;\n",
       "    }\n",
       "</style>\n",
       "<table border=\"1\" class=\"dataframe\">\n",
       "  <thead>\n",
       "    <tr style=\"text-align: right;\">\n",
       "      <th></th>\n",
       "      <th>count</th>\n",
       "      <th>unique</th>\n",
       "      <th>top</th>\n",
       "      <th>freq</th>\n",
       "      <th>mean</th>\n",
       "      <th>std</th>\n",
       "      <th>min</th>\n",
       "      <th>25%</th>\n",
       "      <th>50%</th>\n",
       "      <th>75%</th>\n",
       "      <th>max</th>\n",
       "    </tr>\n",
       "  </thead>\n",
       "  <tbody>\n",
       "    <tr>\n",
       "      <th>PassengerId</th>\n",
       "      <td>891.0</td>\n",
       "      <td>NaN</td>\n",
       "      <td>NaN</td>\n",
       "      <td>NaN</td>\n",
       "      <td>446.0</td>\n",
       "      <td>257.353842</td>\n",
       "      <td>1.0</td>\n",
       "      <td>223.5</td>\n",
       "      <td>446.0</td>\n",
       "      <td>668.5</td>\n",
       "      <td>891.0</td>\n",
       "    </tr>\n",
       "    <tr>\n",
       "      <th>Survived</th>\n",
       "      <td>891.0</td>\n",
       "      <td>NaN</td>\n",
       "      <td>NaN</td>\n",
       "      <td>NaN</td>\n",
       "      <td>0.383838</td>\n",
       "      <td>0.486592</td>\n",
       "      <td>0.0</td>\n",
       "      <td>0.0</td>\n",
       "      <td>0.0</td>\n",
       "      <td>1.0</td>\n",
       "      <td>1.0</td>\n",
       "    </tr>\n",
       "    <tr>\n",
       "      <th>Pclass</th>\n",
       "      <td>891.0</td>\n",
       "      <td>NaN</td>\n",
       "      <td>NaN</td>\n",
       "      <td>NaN</td>\n",
       "      <td>2.308642</td>\n",
       "      <td>0.836071</td>\n",
       "      <td>1.0</td>\n",
       "      <td>2.0</td>\n",
       "      <td>3.0</td>\n",
       "      <td>3.0</td>\n",
       "      <td>3.0</td>\n",
       "    </tr>\n",
       "    <tr>\n",
       "      <th>Name</th>\n",
       "      <td>891</td>\n",
       "      <td>891</td>\n",
       "      <td>Dooley, Mr. Patrick</td>\n",
       "      <td>1</td>\n",
       "      <td>NaN</td>\n",
       "      <td>NaN</td>\n",
       "      <td>NaN</td>\n",
       "      <td>NaN</td>\n",
       "      <td>NaN</td>\n",
       "      <td>NaN</td>\n",
       "      <td>NaN</td>\n",
       "    </tr>\n",
       "    <tr>\n",
       "      <th>Sex</th>\n",
       "      <td>891</td>\n",
       "      <td>2</td>\n",
       "      <td>male</td>\n",
       "      <td>577</td>\n",
       "      <td>NaN</td>\n",
       "      <td>NaN</td>\n",
       "      <td>NaN</td>\n",
       "      <td>NaN</td>\n",
       "      <td>NaN</td>\n",
       "      <td>NaN</td>\n",
       "      <td>NaN</td>\n",
       "    </tr>\n",
       "    <tr>\n",
       "      <th>Age</th>\n",
       "      <td>714.0</td>\n",
       "      <td>NaN</td>\n",
       "      <td>NaN</td>\n",
       "      <td>NaN</td>\n",
       "      <td>29.699118</td>\n",
       "      <td>14.526497</td>\n",
       "      <td>0.42</td>\n",
       "      <td>20.125</td>\n",
       "      <td>28.0</td>\n",
       "      <td>38.0</td>\n",
       "      <td>80.0</td>\n",
       "    </tr>\n",
       "    <tr>\n",
       "      <th>SibSp</th>\n",
       "      <td>891.0</td>\n",
       "      <td>NaN</td>\n",
       "      <td>NaN</td>\n",
       "      <td>NaN</td>\n",
       "      <td>0.523008</td>\n",
       "      <td>1.102743</td>\n",
       "      <td>0.0</td>\n",
       "      <td>0.0</td>\n",
       "      <td>0.0</td>\n",
       "      <td>1.0</td>\n",
       "      <td>8.0</td>\n",
       "    </tr>\n",
       "    <tr>\n",
       "      <th>Parch</th>\n",
       "      <td>891.0</td>\n",
       "      <td>NaN</td>\n",
       "      <td>NaN</td>\n",
       "      <td>NaN</td>\n",
       "      <td>0.381594</td>\n",
       "      <td>0.806057</td>\n",
       "      <td>0.0</td>\n",
       "      <td>0.0</td>\n",
       "      <td>0.0</td>\n",
       "      <td>0.0</td>\n",
       "      <td>6.0</td>\n",
       "    </tr>\n",
       "    <tr>\n",
       "      <th>Ticket</th>\n",
       "      <td>891</td>\n",
       "      <td>681</td>\n",
       "      <td>347082</td>\n",
       "      <td>7</td>\n",
       "      <td>NaN</td>\n",
       "      <td>NaN</td>\n",
       "      <td>NaN</td>\n",
       "      <td>NaN</td>\n",
       "      <td>NaN</td>\n",
       "      <td>NaN</td>\n",
       "      <td>NaN</td>\n",
       "    </tr>\n",
       "    <tr>\n",
       "      <th>Fare</th>\n",
       "      <td>891.0</td>\n",
       "      <td>NaN</td>\n",
       "      <td>NaN</td>\n",
       "      <td>NaN</td>\n",
       "      <td>32.204208</td>\n",
       "      <td>49.693429</td>\n",
       "      <td>0.0</td>\n",
       "      <td>7.9104</td>\n",
       "      <td>14.4542</td>\n",
       "      <td>31.0</td>\n",
       "      <td>512.3292</td>\n",
       "    </tr>\n",
       "    <tr>\n",
       "      <th>Cabin</th>\n",
       "      <td>204</td>\n",
       "      <td>147</td>\n",
       "      <td>G6</td>\n",
       "      <td>4</td>\n",
       "      <td>NaN</td>\n",
       "      <td>NaN</td>\n",
       "      <td>NaN</td>\n",
       "      <td>NaN</td>\n",
       "      <td>NaN</td>\n",
       "      <td>NaN</td>\n",
       "      <td>NaN</td>\n",
       "    </tr>\n",
       "    <tr>\n",
       "      <th>Embarked</th>\n",
       "      <td>889</td>\n",
       "      <td>3</td>\n",
       "      <td>S</td>\n",
       "      <td>644</td>\n",
       "      <td>NaN</td>\n",
       "      <td>NaN</td>\n",
       "      <td>NaN</td>\n",
       "      <td>NaN</td>\n",
       "      <td>NaN</td>\n",
       "      <td>NaN</td>\n",
       "      <td>NaN</td>\n",
       "    </tr>\n",
       "  </tbody>\n",
       "</table>\n",
       "</div>"
      ],
      "text/plain": [
       "             count unique                  top freq       mean         std  \\\n",
       "PassengerId  891.0    NaN                  NaN  NaN      446.0  257.353842   \n",
       "Survived     891.0    NaN                  NaN  NaN   0.383838    0.486592   \n",
       "Pclass       891.0    NaN                  NaN  NaN   2.308642    0.836071   \n",
       "Name           891    891  Dooley, Mr. Patrick    1        NaN         NaN   \n",
       "Sex            891      2                 male  577        NaN         NaN   \n",
       "Age          714.0    NaN                  NaN  NaN  29.699118   14.526497   \n",
       "SibSp        891.0    NaN                  NaN  NaN   0.523008    1.102743   \n",
       "Parch        891.0    NaN                  NaN  NaN   0.381594    0.806057   \n",
       "Ticket         891    681               347082    7        NaN         NaN   \n",
       "Fare         891.0    NaN                  NaN  NaN  32.204208   49.693429   \n",
       "Cabin          204    147                   G6    4        NaN         NaN   \n",
       "Embarked       889      3                    S  644        NaN         NaN   \n",
       "\n",
       "              min     25%      50%    75%       max  \n",
       "PassengerId   1.0   223.5    446.0  668.5     891.0  \n",
       "Survived      0.0     0.0      0.0    1.0       1.0  \n",
       "Pclass        1.0     2.0      3.0    3.0       3.0  \n",
       "Name          NaN     NaN      NaN    NaN       NaN  \n",
       "Sex           NaN     NaN      NaN    NaN       NaN  \n",
       "Age          0.42  20.125     28.0   38.0      80.0  \n",
       "SibSp         0.0     0.0      0.0    1.0       8.0  \n",
       "Parch         0.0     0.0      0.0    0.0       6.0  \n",
       "Ticket        NaN     NaN      NaN    NaN       NaN  \n",
       "Fare          0.0  7.9104  14.4542   31.0  512.3292  \n",
       "Cabin         NaN     NaN      NaN    NaN       NaN  \n",
       "Embarked      NaN     NaN      NaN    NaN       NaN  "
      ]
     },
     "execution_count": 3,
     "metadata": {},
     "output_type": "execute_result"
    }
   ],
   "source": [
    "# Structural info\n",
    "df.info()\n",
    "\n",
    "# Basic stats\n",
    "df.describe(include='all').T\n"
   ]
  },
  {
   "cell_type": "code",
   "execution_count": 7,
   "id": "dd1b12b8",
   "metadata": {},
   "outputs": [
    {
     "data": {
      "image/png": "[encoded data removed]",
      "text/plain": [
       "<Figure size 800x400 with 1 Axes>"
      ]
     },
     "metadata": {},
     "output_type": "display_data"
    }
   ],
   "source": [
    "# Create DataFrame for missing values\n",
    "missing = df.isnull().sum().sort_values(ascending=False)\n",
    "missing = missing[missing > 0].reset_index()\n",
    "missing.columns = ['Feature', 'MissingValues']\n",
    "\n",
    "# Barplot (no future warning)\n",
    "plt.figure(figsize=(8, 4))\n",
    "sns.barplot(\n",
    "    data=missing,\n",
    "    x='MissingValues',\n",
    "    y='Feature',\n",
    "    hue='Feature',              # avoids warning by using hue properly\n",
    "    palette='magma',\n",
    "    dodge=False,\n",
    "    legend=False                # disables duplicate legend\n",
    ")\n",
    "plt.title(\"Missing Values by Feature\", fontsize=14)\n",
    "plt.xlabel(\"Count of Missing Values\", fontsize=12)\n",
    "plt.ylabel(\"Feature\", fontsize=12)\n",
    "plt.tight_layout()\n",
    "plt.savefig(\"../visuals/missing_values_plot.png\")\n",
    "plt.show()\n",
    "\n",
    "\n"
   ]
  },
  {
   "cell_type": "code",
   "execution_count": 9,
   "id": "82b30515",
   "metadata": {},
   "outputs": [
    {
     "data": {
      "image/png": "[encoded data removed]",
      "text/plain": [
       "<Figure size 600x400 with 1 Axes>"
      ]
     },
     "metadata": {},
     "output_type": "display_data"
    },
    {
     "data": {
      "image/png": "[encoded data removed]",
      "text/plain": [
       "<Figure size 600x400 with 1 Axes>"
      ]
     },
     "metadata": {},
     "output_type": "display_data"
    },
    {
     "data": {
      "image/png": "[encoded data removed]",
      "text/plain": [
       "<Figure size 600x400 with 1 Axes>"
      ]
     },
     "metadata": {},
     "output_type": "display_data"
    },
    {
     "data": {
      "image/png": "[encoded data removed]",
      "text/plain": [
       "<Figure size 600x400 with 1 Axes>"
      ]
     },
     "metadata": {},
     "output_type": "display_data"
    }
   ],
   "source": [
    "# Categorical features\n",
    "categorical = ['Survived', 'Sex', 'Pclass', 'Embarked']\n",
    "\n",
    "for col in categorical:\n",
    "    plt.figure(figsize=(6, 4))\n",
    "    sns.countplot(data=df, x=col, hue=col, palette='pastel', legend=False)\n",
    "    plt.title(f\"Distribution of {col}\", fontsize=13)\n",
    "    plt.xlabel(col, fontsize=11)\n",
    "    plt.ylabel(\"Count\", fontsize=11)\n",
    "    plt.tight_layout()\n",
    "    plt.savefig(f\"../visuals/{col}_distribution.png\")\n",
    "    plt.show()\n"
   ]
  },
  {
   "cell_type": "code",
   "execution_count": 10,
   "id": "f365106a",
   "metadata": {},
   "outputs": [
    {
     "data": {
      "image/png": "[encoded data removed]",
      "text/plain": [
       "<Figure size 1400x1000 with 9 Axes>"
      ]
     },
     "metadata": {},
     "output_type": "display_data"
    }
   ],
   "source": [
    "# Numeric features only\n",
    "numeric_cols = df.select_dtypes(include=['int64', 'float64']).columns\n",
    "\n",
    "df[numeric_cols].hist(bins=20, figsize=(14, 10), edgecolor='black', color='#5DADE2')\n",
    "plt.suptitle(\"Histograms of Numeric Features\", fontsize=16)\n",
    "plt.tight_layout()\n",
    "plt.savefig(\"../visuals/numeric_histograms.png\")\n",
    "plt.show()\n"
   ]
  },
  {
   "cell_type": "code",
   "execution_count": 11,
   "id": "ac0f9fe4",
   "metadata": {},
   "outputs": [
    {
     "data": {
      "image/png": "[encoded data removed]",
      "text/plain": [
       "<Figure size 700x400 with 1 Axes>"
      ]
     },
     "metadata": {},
     "output_type": "display_data"
    },
    {
     "data": {
      "image/png": "[encoded data removed]",
      "text/plain": [
       "<Figure size 700x400 with 1 Axes>"
      ]
     },
     "metadata": {},
     "output_type": "display_data"
    },
    {
     "data": {
      "image/png": "[encoded data removed]",
      "text/plain": [
       "<Figure size 700x400 with 1 Axes>"
      ]
     },
     "metadata": {},
     "output_type": "display_data"
    },
    {
     "data": {
      "image/png": "[encoded data removed]",
      "text/plain": [
       "<Figure size 700x400 with 1 Axes>"
      ]
     },
     "metadata": {},
     "output_type": "display_data"
    },
    {
     "data": {
      "image/png": "[encoded data removed]",
      "text/plain": [
       "<Figure size 700x400 with 1 Axes>"
      ]
     },
     "metadata": {},
     "output_type": "display_data"
    },
    {
     "data": {
      "image/png": "[encoded data removed]",
      "text/plain": [
       "<Figure size 700x400 with 1 Axes>"
      ]
     },
     "metadata": {},
     "output_type": "display_data"
    },
    {
     "data": {
      "image/png": "[encoded data removed]",
      "text/plain": [
       "<Figure size 700x400 with 1 Axes>"
      ]
     },
     "metadata": {},
     "output_type": "display_data"
    }
   ],
   "source": [
    "# Boxplot for each numeric feature\n",
    "for col in numeric_cols:\n",
    "    plt.figure(figsize=(7, 4))\n",
    "    sns.boxplot(x=df[col], color='lightgreen')\n",
    "    plt.title(f\"Boxplot - {col}\", fontsize=13)\n",
    "    plt.xlabel(col, fontsize=11)\n",
    "    plt.tight_layout()\n",
    "    plt.savefig(f\"../visuals/boxplot_{col}.png\")\n",
    "    plt.show()\n"
   ]
  },
  {
   "cell_type": "code",
   "execution_count": 12,
   "id": "4d24f222",
   "metadata": {},
   "outputs": [
    {
     "data": {
      "image/png": "[encoded data removed]",
      "text/plain": [
       "<Figure size 1000x600 with 2 Axes>"
      ]
     },
     "metadata": {},
     "output_type": "display_data"
    }
   ],
   "source": [
    "# Correlation matrix\n",
    "corr = df[numeric_cols].corr()\n",
    "\n",
    "plt.figure(figsize=(10, 6))\n",
    "sns.heatmap(corr, annot=True, cmap='coolwarm', fmt=\".2f\")\n",
    "plt.title(\"Correlation Heatmap\", fontsize=14)\n",
    "plt.tight_layout()\n",
    "plt.savefig(\"../visuals/correlation_heatmap.png\")\n",
    "plt.show()\n"
   ]
  },
  {
   "cell_type": "code",
   "execution_count": 13,
   "id": "242b02c5",
   "metadata": {},
   "outputs": [
    {
     "data": {
      "image/png": "[encoded data removed]",
      "text/plain": [
       "<Figure size 827.347x750 with 12 Axes>"
      ]
     },
     "metadata": {},
     "output_type": "display_data"
    }
   ],
   "source": [
    "# Select key columns for pairplot\n",
    "selected_cols = ['Age', 'Fare', 'Pclass', 'Survived']\n",
    "\n",
    "sns.pairplot(df[selected_cols], hue='Survived', palette='Set2', diag_kind='kde')\n",
    "plt.savefig(\"../visuals/pairplot_survived.png\")\n",
    "plt.show()\n"
   ]
  },
  {
   "cell_type": "code",
   "execution_count": 14,
   "id": "fba7a4aa",
   "metadata": {},
   "outputs": [
    {
     "name": "stdout",
     "output_type": "stream",
     "text": [
      "Skewness of Numeric Features:\n",
      "\n",
      "PassengerId: Skewness = 0.00\n",
      "Survived: Skewness = 0.48\n",
      "Pclass: Skewness = -0.63\n",
      "Age: Skewness = 0.39\n",
      "SibSp: Skewness = 3.70\n",
      "Parch: Skewness = 2.75\n",
      "Fare: Skewness = 4.79\n"
     ]
    }
   ],
   "source": [
    "# Check skewness for numeric features\n",
    "print(\"Skewness of Numeric Features:\\n\")\n",
    "for col in numeric_cols:\n",
    "    skew_val = df[col].skew()\n",
    "    print(f\"{col}: Skewness = {skew_val:.2f}\")\n"
   ]
  },
  {
   "cell_type": "code",
   "execution_count": 5,
   "id": "22f73f83",
   "metadata": {},
   "outputs": [
    {
     "data": {
      "application/vnd.plotly.v1+json": {
       "config": {
        "plotlyServerURL": "https://plot.ly"
       },
       "data": [
        {
         "customdata": [
          [
           "male",
           "S"
          ],
          [
           "female",
           "S"
          ],
          [
           "male",
           "S"
          ],
          [
           "male",
           "Q"
          ],
          [
           "male",
           "S"
          ],
          [
           "female",
           "S"
          ],
          [
           "female",
           "S"
          ],
          [
           "male",
           "S"
          ],
          [
           "male",
           "S"
          ],
          [
           "female",
           "S"
          ],
          [
           "male",
           "Q"
          ],
          [
           "female",
           "S"
          ],
          [
           "female",
           "C"
          ],
          [
           "female",
           "Q"
          ],
          [
           "female",
           "S"
          ],
          [
           "female",
           "S"
          ],
          [
           "male",
           "C"
          ],
          [
           "female",
           "Q"
          ],
          [
           "male",
           "S"
          ],
          [
           "female",
           "Q"
          ],
          [
           "male",
           "C"
          ],
          [
           "male",
           "S"
          ],
          [
           "female",
           "S"
          ],
          [
           "female",
           "C"
          ],
          [
           "female",
           "S"
          ],
          [
           "male",
           "C"
          ],
          [
           "female",
           "Q"
          ],
          [
           "male",
           "S"
          ],
          [
           "male",
           "Q"
          ],
          [
           "female",
           "Q"
          ],
          [
           "male",
           "C"
          ],
          [
           "female",
           "S"
          ],
          [
           "male",
           "S"
          ],
          [
           "male",
           "S"
          ],
          [
           "male",
           "C"
          ],
          [
           "male",
           "S"
          ],
          [
           "male",
           "C"
          ],
          [
           "male",
           "S"
          ],
          [
           "male",
           "C"
          ],
          [
           "male",
           "S"
          ],
          [
           "female",
           "S"
          ],
          [
           "male",
           "S"
          ],
          [
           "female",
           "S"
          ],
          [
           "male",
           "C"
          ],
          [
           "male",
           "S"
          ],
          [
           "male",
           "S"
          ],
          [
           "male",
           "S"
          ],
          [
           "male",
           "S"
          ],
          [
           "female",
           "S"
          ],
          [
           "male",
           "S"
          ],
          [
           "male",
           "S"
          ],
          [
           "female",
           "Q"
          ],
          [
           "female",
           "S"
          ],
          [
           "male",
           "S"
          ],
          [
           "male",
           "S"
          ],
          [
           "male",
           "S"
          ],
          [
           "male",
           "S"
          ],
          [
           "male",
           "S"
          ],
          [
           "male",
           "S"
          ],
          [
           "male",
           "S"
          ],
          [
           "male",
           "S"
          ],
          [
           "female",
           "S"
          ],
          [
           "male",
           "S"
          ],
          [
           "male",
           "S"
          ],
          [
           "male",
           "S"
          ],
          [
           "male",
           "S"
          ],
          [
           "female",
           "S"
          ],
          [
           "male",
           "S"
          ],
          [
           "male",
           "S"
          ],
          [
           "female",
           "Q"
          ],
          [
           "female",
           "C"
          ],
          [
           "male",
           "S"
          ],
          [
           "female",
           "S"
          ],
          [
           "female",
           "C"
          ],
          [
           "male",
           "S"
          ],
          [
           "male",
           "Q"
          ],
          [
           "female",
           "S"
          ],
          [
           "male",
           "S"
          ],
          [
           "male",
           "C"
          ],
          [
           "male",
           "Q"
          ],
          [
           "male",
           "S"
          ],
          [
           "female",
           "C"
          ],
          [
           "male",
           "S"
          ],
          [
           "male",
           "C"
          ],
          [
           "male",
           "S"
          ],
          [
           "female",
           "S"
          ],
          [
           "male",
           "S"
          ],
          [
           "female",
           "C"
          ],
          [
           "female",
           "S"
          ],
          [
           "female",
           "S"
          ],
          [
           "male",
           "Q"
          ],
          [
           "male",
           "S"
          ],
          [
           "female",
           "S"
          ],
          [
           "male",
           "S"
          ],
          [
           "male",
           "S"
          ],
          [
           "male",
           "S"
          ],
          [
           "female",
           "Q"
          ],
          [
           "male",
           "S"
          ],
          [
           "male",
           "S"
          ],
          [
           "male",
           "S"
          ],
          [
           "male",
           "S"
          ],
          [
           "male",
           "S"
          ],
          [
           "male",
           "S"
          ],
          [
           "male",
           "S"
          ],
          [
           "male",
           "S"
          ],
          [
           "female",
           "S"
          ],
          [
           "male",
           "S"
          ],
          [
           "male",
           "Q"
          ],
          [
           "female",
           "S"
          ],
          [
           "male",
           "S"
          ],
          [
           "male",
           "S"
          ],
          [
           "male",
           "S"
          ],
          [
           "male",
           "S"
          ],
          [
           "female",
           "S"
          ],
          [
           "male",
           "S"
          ],
          [
           "female",
           "S"
          ],
          [
           "female",
           "Q"
          ],
          [
           "male",
           "Q"
          ],
          [
           "male",
           "S"
          ],
          [
           "female",
           "S"
          ],
          [
           "male",
           "Q"
          ],
          [
           "male",
           "S"
          ],
          [
           "female",
           "Q"
          ],
          [
           "male",
           "S"
          ],
          [
           "male",
           "S"
          ],
          [
           "male",
           "S"
          ],
          [
           "male",
           "C"
          ],
          [
           "male",
           "S"
          ],
          [
           "female",
           "S"
          ],
          [
           "male",
           "S"
          ],
          [
           "male",
           "C"
          ],
          [
           "female",
           "Q"
          ],
          [
           "male",
           "S"
          ],
          [
           "male",
           "S"
          ],
          [
           "male",
           "Q"
          ],
          [
           "female",
           "S"
          ],
          [
           "male",
           "S"
          ],
          [
           "male",
           "S"
          ],
          [
           "male",
           "S"
          ],
          [
           "male",
           "S"
          ],
          [
           "male",
           "S"
          ],
          [
           "female",
           "S"
          ],
          [
           "male",
           "S"
          ],
          [
           "female",
           "S"
          ],
          [
           "female",
           "S"
          ],
          [
           "female",
           "C"
          ],
          [
           "female",
           "Q"
          ],
          [
           "male",
           "S"
          ],
          [
           "male",
           "C"
          ],
          [
           "female",
           "S"
          ],
          [
           "male",
           "S"
          ],
          [
           "female",
           "S"
          ],
          [
           "male",
           "S"
          ],
          [
           "female",
           "S"
          ],
          [
           "female",
           "C"
          ],
          [
           "male",
           "Q"
          ],
          [
           "male",
           "S"
          ],
          [
           "female",
           "Q"
          ],
          [
           "male",
           "S"
          ],
          [
           "male",
           "S"
          ],
          [
           "male",
           "S"
          ],
          [
           "female",
           "Q"
          ],
          [
           "female",
           "S"
          ],
          [
           "male",
           "Q"
          ],
          [
           "female",
           "S"
          ],
          [
           "male",
           "Q"
          ],
          [
           "male",
           "S"
          ],
          [
           "male",
           "S"
          ],
          [
           "male",
           "S"
          ],
          [
           "male",
           "C"
          ],
          [
           "male",
           "S"
          ],
          [
           "male",
           "S"
          ],
          [
           "female",
           "Q"
          ],
          [
           "female",
           "S"
          ],
          [
           "male",
           "S"
          ],
          [
           "male",
           "C"
          ],
          [
           "female",
           "Q"
          ],
          [
           "male",
           "Q"
          ],
          [
           "male",
           "S"
          ],
          [
           "male",
           "S"
          ],
          [
           "male",
           "S"
          ],
          [
           "female",
           "S"
          ],
          [
           "male",
           "S"
          ],
          [
           "male",
           "S"
          ],
          [
           "male",
           "S"
          ],
          [
           "male",
           "S"
          ],
          [
           "female",
           "S"
          ],
          [
           "female",
           "Q"
          ],
          [
           "male",
           "S"
          ],
          [
           "male",
           "S"
          ],
          [
           "male",
           "S"
          ],
          [
           "female",
           "S"
          ],
          [
           "male",
           "S"
          ],
          [
           "male",
           "S"
          ],
          [
           "male",
           "S"
          ],
          [
           "male",
           "C"
          ],
          [
           "male",
           "S"
          ],
          [
           "male",
           "C"
          ],
          [
           "male",
           "S"
          ],
          [
           "female",
           "Q"
          ],
          [
           "female",
           "Q"
          ],
          [
           "male",
           "S"
          ],
          [
           "female",
           "C"
          ],
          [
           "male",
           "S"
          ],
          [
           "male",
           "Q"
          ],
          [
           "male",
           "S"
          ],
          [
           "female",
           "C"
          ],
          [
           "female",
           "Q"
          ],
          [
           "male",
           "S"
          ],
          [
           "male",
           "S"
          ],
          [
           "female",
           "S"
          ],
          [
           "female",
           "S"
          ],
          [
           "male",
           "C"
          ],
          [
           "male",
           "S"
          ],
          [
           "female",
           "C"
          ],
          [
           "male",
           "S"
          ],
          [
           "male",
           "S"
          ],
          [
           "male",
           "S"
          ],
          [
           "male",
           "Q"
          ],
          [
           "male",
           "S"
          ],
          [
           "male",
           "S"
          ],
          [
           "female",
           "S"
          ],
          [
           "male",
           "S"
          ],
          [
           "female",
           "S"
          ],
          [
           "male",
           "S"
          ],
          [
           "male",
           "S"
          ],
          [
           "female",
           "S"
          ],
          [
           "male",
           "S"
          ],
          [
           "female",
           "S"
          ],
          [
           "male",
           "S"
          ],
          [
           "male",
           "S"
          ],
          [
           "female",
           "S"
          ],
          [
           "male",
           "S"
          ],
          [
           "male",
           "Q"
          ],
          [
           "male",
           "S"
          ],
          [
           "female",
           "S"
          ],
          [
           "female",
           "S"
          ],
          [
           "male",
           "C"
          ],
          [
           "male",
           "Q"
          ],
          [
           "male",
           "S"
          ],
          [
           "female",
           "S"
          ],
          [
           "male",
           "S"
          ],
          [
           "male",
           "S"
          ],
          [
           "male",
           "Q"
          ],
          [
           "male",
           "S"
          ],
          [
           "female",
           "S"
          ],
          [
           "male",
           "S"
          ],
          [
           "female",
           "S"
          ],
          [
           "male",
           "S"
          ],
          [
           "male",
           "S"
          ],
          [
           "male",
           "S"
          ],
          [
           "female",
           "C"
          ],
          [
           "male",
           "S"
          ],
          [
           "male",
           "S"
          ],
          [
           "male",
           "C"
          ],
          [
           "male",
           "Q"
          ],
          [
           "male",
           "S"
          ],
          [
           "male",
           "S"
          ],
          [
           "male",
           "S"
          ],
          [
           "male",
           "Q"
          ],
          [
           "female",
           "C"
          ],
          [
           "male",
           "S"
          ],
          [
           "male",
           "S"
          ],
          [
           "female",
           "S"
          ],
          [
           "male",
           "S"
          ],
          [
           "male",
           "S"
          ],
          [
           "female",
           "S"
          ],
          [
           "male",
           "S"
          ],
          [
           "male",
           "S"
          ],
          [
           "female",
           "S"
          ],
          [
           "female",
           "S"
          ],
          [
           "male",
           "S"
          ],
          [
           "male",
           "S"
          ],
          [
           "male",
           "S"
          ],
          [
           "male",
           "S"
          ],
          [
           "male",
           "S"
          ],
          [
           "male",
           "C"
          ],
          [
           "male",
           "S"
          ],
          [
           "male",
           "S"
          ],
          [
           "male",
           "S"
          ],
          [
           "female",
           "Q"
          ],
          [
           "female",
           "Q"
          ],
          [
           "female",
           "S"
          ],
          [
           "male",
           "S"
          ],
          [
           "male",
           "S"
          ],
          [
           "male",
           "Q"
          ],
          [
           "male",
           "S"
          ],
          [
           "male",
           "S"
          ],
          [
           "male",
           "Q"
          ],
          [
           "male",
           "S"
          ],
          [
           "male",
           "S"
          ],
          [
           "male",
           "C"
          ],
          [
           "male",
           "C"
          ],
          [
           "male",
           "Q"
          ],
          [
           "male",
           "S"
          ],
          [
           "male",
           "C"
          ],
          [
           "male",
           "C"
          ],
          [
           "female",
           "C"
          ],
          [
           "female",
           "S"
          ],
          [
           "male",
           "S"
          ],
          [
           "female",
           "S"
          ],
          [
           "female",
           "S"
          ],
          [
           "male",
           "S"
          ],
          [
           "male",
           "Q"
          ],
          [
           "male",
           "C"
          ],
          [
           "female",
           "S"
          ],
          [
           "female",
           "S"
          ],
          [
           "male",
           "Q"
          ],
          [
           "male",
           "S"
          ],
          [
           "male",
           "S"
          ],
          [
           "female",
           "S"
          ],
          [
           "male",
           "S"
          ],
          [
           "male",
           "S"
          ],
          [
           "female",
           "S"
          ],
          [
           "male",
           "C"
          ],
          [
           "male",
           "S"
          ],
          [
           "female",
           "Q"
          ],
          [
           "male",
           "S"
          ],
          [
           "male",
           "S"
          ],
          [
           "female",
           "C"
          ],
          [
           "male",
           "S"
          ],
          [
           "male",
           "C"
          ],
          [
           "male",
           "S"
          ],
          [
           "male",
           "S"
          ],
          [
           "male",
           "S"
          ],
          [
           "male",
           "S"
          ],
          [
           "female",
           "Q"
          ],
          [
           "male",
           "S"
          ],
          [
           "male",
           "S"
          ],
          [
           "male",
           "C"
          ],
          [
           "male",
           "S"
          ],
          [
           "male",
           "S"
          ],
          [
           "male",
           "S"
          ],
          [
           "male",
           "S"
          ],
          [
           "female",
           "S"
          ],
          [
           "male",
           "S"
          ],
          [
           "female",
           "Q"
          ],
          [
           "male",
           "Q"
          ],
          [
           "male",
           "S"
          ],
          [
           "male",
           "S"
          ],
          [
           "female",
           "S"
          ],
          [
           "male",
           "C"
          ],
          [
           "male",
           "C"
          ],
          [
           "male",
           "S"
          ],
          [
           "male",
           "S"
          ],
          [
           "male",
           "S"
          ],
          [
           "male",
           "Q"
          ],
          [
           "male",
           "S"
          ],
          [
           "female",
           "S"
          ],
          [
           "male",
           "S"
          ],
          [
           "female",
           "S"
          ],
          [
           "male",
           "S"
          ],
          [
           "male",
           "S"
          ],
          [
           "female",
           "S"
          ],
          [
           "male",
           "S"
          ],
          [
           "female",
           "C"
          ],
          [
           "male",
           "S"
          ],
          [
           "male",
           "S"
          ],
          [
           "female",
           "S"
          ],
          [
           "male",
           "S"
          ],
          [
           "male",
           "S"
          ],
          [
           "female",
           "Q"
          ],
          [
           "female",
           "Q"
          ],
          [
           "male",
           "S"
          ],
          [
           "female",
           "Q"
          ],
          [
           "male",
           "C"
          ],
          [
           "male",
           "S"
          ],
          [
           "male",
           "S"
          ],
          [
           "male",
           "S"
          ],
          [
           "male",
           "S"
          ],
          [
           "male",
           "S"
          ],
          [
           "male",
           "S"
          ],
          [
           "female",
           "S"
          ],
          [
           "female",
           "S"
          ],
          [
           "female",
           "Q"
          ],
          [
           "male",
           "S"
          ],
          [
           "male",
           "S"
          ],
          [
           "male",
           "S"
          ],
          [
           "male",
           "S"
          ],
          [
           "male",
           "S"
          ],
          [
           "female",
           "C"
          ],
          [
           "male",
           "S"
          ],
          [
           "male",
           "C"
          ],
          [
           "male",
           "S"
          ],
          [
           "female",
           "Q"
          ],
          [
           "male",
           "S"
          ],
          [
           "female",
           "C"
          ],
          [
           "male",
           "Q"
          ],
          [
           "male",
           "S"
          ],
          [
           "male",
           "C"
          ],
          [
           "male",
           "S"
          ],
          [
           "male",
           "S"
          ],
          [
           "male",
           "Q"
          ],
          [
           "male",
           "S"
          ],
          [
           "male",
           "S"
          ],
          [
           "male",
           "S"
          ],
          [
           "female",
           "Q"
          ],
          [
           "female",
           "S"
          ],
          [
           "male",
           "C"
          ],
          [
           "male",
           "S"
          ],
          [
           "female",
           "S"
          ],
          [
           "male",
           "S"
          ],
          [
           "male",
           "S"
          ],
          [
           "male",
           "S"
          ],
          [
           "male",
           "S"
          ],
          [
           "male",
           "S"
          ],
          [
           "male",
           "Q"
          ],
          [
           "male",
           "S"
          ],
          [
           "male",
           "S"
          ],
          [
           "male",
           "S"
          ],
          [
           "male",
           "S"
          ],
          [
           "male",
           "S"
          ],
          [
           "male",
           "S"
          ],
          [
           "male",
           "S"
          ],
          [
           "male",
           "C"
          ],
          [
           "male",
           "S"
          ],
          [
           "female",
           "Q"
          ],
          [
           "male",
           "Q"
          ],
          [
           "male",
           "S"
          ],
          [
           "male",
           "S"
          ],
          [
           "male",
           "S"
          ],
          [
           "male",
           "C"
          ],
          [
           "male",
           "S"
          ],
          [
           "male",
           "Q"
          ],
          [
           "female",
           "S"
          ],
          [
           "male",
           "Q"
          ],
          [
           "female",
           "C"
          ],
          [
           "male",
           "S"
          ],
          [
           "male",
           "S"
          ],
          [
           "male",
           "S"
          ],
          [
           "female",
           "S"
          ],
          [
           "male",
           "Q"
          ],
          [
           "male",
           "S"
          ],
          [
           "male",
           "Q"
          ],
          [
           "female",
           "S"
          ],
          [
           "male",
           "S"
          ],
          [
           "female",
           "S"
          ],
          [
           "male",
           "C"
          ],
          [
           "female",
           "S"
          ],
          [
           "male",
           "C"
          ],
          [
           "male",
           "S"
          ],
          [
           "male",
           "S"
          ],
          [
           "female",
           "S"
          ],
          [
           "male",
           "S"
          ],
          [
           "male",
           "S"
          ],
          [
           "female",
           "S"
          ],
          [
           "male",
           "S"
          ],
          [
           "female",
           "S"
          ],
          [
           "male",
           "S"
          ],
          [
           "male",
           "S"
          ],
          [
           "male",
           "S"
          ],
          [
           "female",
           "S"
          ],
          [
           "male",
           "S"
          ],
          [
           "male",
           "Q"
          ],
          [
           "male",
           "S"
          ],
          [
           "male",
           "Q"
          ],
          [
           "female",
           "C"
          ],
          [
           "male",
           "C"
          ],
          [
           "male",
           "S"
          ],
          [
           "male",
           "S"
          ],
          [
           "male",
           "S"
          ],
          [
           "male",
           "S"
          ],
          [
           "male",
           "S"
          ],
          [
           "male",
           "S"
          ],
          [
           "male",
           "C"
          ],
          [
           "male",
           "S"
          ],
          [
           "male",
           "S"
          ],
          [
           "male",
           "S"
          ],
          [
           "male",
           "C"
          ],
          [
           "male",
           "S"
          ],
          [
           "male",
           "S"
          ],
          [
           "female",
           "C"
          ],
          [
           "female",
           "S"
          ],
          [
           "female",
           "C"
          ],
          [
           "male",
           "C"
          ],
          [
           "male",
           "S"
          ],
          [
           "female",
           "S"
          ],
          [
           "male",
           "S"
          ],
          [
           "male",
           "S"
          ],
          [
           "male",
           "S"
          ],
          [
           "male",
           "S"
          ],
          [
           "female",
           "C"
          ],
          [
           "male",
           "S"
          ],
          [
           "male",
           "S"
          ],
          [
           "male",
           "S"
          ],
          [
           "male",
           "S"
          ],
          [
           "female",
           "S"
          ],
          [
           "male",
           "S"
          ],
          [
           "female",
           "Q"
          ],
          [
           "female",
           "S"
          ],
          [
           "male",
           "Q"
          ]
         ],
         "hovertemplate": "Passenger Class=3<br>Passenger Age=%{x}<br>Fare Paid=%{marker.size}<br>Sex=%{customdata[0]}<br>Embarked=%{customdata[1]}<br>Survival (0 = No, 1 = Yes)=%{marker.color}<extra></extra>",
         "legendgroup": "3",
         "marker": {
          "color": {
           "bdata": "AAEAAAABAQAAAAAAAQEAAQABAAEBAAABAAABAAABAAAAAAAAAAABAAEAAAABAAAAAQABAQEAAAAAAAAAAAAAAAAAAQEAAQAAAAAAAAAAAQABAQAAAAAAAAEBAAEAAAAAAQAAAAAAAAABAAAAAQAAAAAAAAEBAAABAAABAAAAAAEAAAEBAAAAAQEAAAAAAAABAAABAAAAAAAAAAEAAQAAAQEBAAABAAAAAQABAAEAAAABAQAAAAEAAAAAAQEAAAEBAQAAAAAAAAEBAAAAAAABAQAAAAEAAAEAAAAAAQABAAABAAAAAAAAAAAAAQAAAAAAAAAAAAEBAAAAAAEBAAABAAAAAAABAAAAAAABAAABAAABAAAAAAAAAAAAAAABAQAAAAAAAAAAAAAAAQAAAAAAAAEBAQAAAAAAAAAAAQEAAAABAAAAAAAAAAAAAAAAAAAAAQAAAAAAAQAAAAAAAAAAAAAAAQEAAAEAAAEAAAAAAAEAAAAAAQAAAAAAAAABAQAAAQAAAAABAAAAAAAAAQAAAAAAAAABAAABAAAAAAAAAQAAAAAAAAAAAAEAAQAAAAEAAQAAAAEAAAEBAAAAAAAAAAAAAQEAAAABAQAAAAAAAQAAAAAAAAAAAAEBAAAAAAEAAAEAAAAAAAAAAAA=",
           "dtype": "i1"
          },
          "coloraxis": "coloraxis",
          "size": {
           "bdata": "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",
           "dtype": "f8"
          },
          "sizemode": "area",
          "sizeref": 1.280823,
          "symbol": "circle"
         },
         "mode": "markers",
         "name": "3",
         "orientation": "v",
         "showlegend": true,
         "type": "scatter",
         "x": {
          "bdata": "AAAAAAAANkAAAAAAAAA6QAAAAAAAgEFAAAAAAAAA+H8AAAAAAAAAQAAAAAAAADtAAAAAAAAAEEAAAAAAAAA0QAAAAAAAgENAAAAAAAAALEAAAAAAAAAAQAAAAAAAAD9AAAAAAAAA+H8AAAAAAAAuQAAAAAAAACBAAAAAAAAAQ0AAAAAAAAD4fwAAAAAAAPh/AAAAAAAA+H8AAAAAAAD4fwAAAAAAAPh/AAAAAAAANUAAAAAAAAAyQAAAAAAAACxAAAAAAAAAREAAAAAAAAD4fwAAAAAAADNAAAAAAAAA+H8AAAAAAAD4fwAAAAAAAPh/AAAAAAAA+H8AAAAAAAAyQAAAAAAAABxAAAAAAAAANUAAAAAAAIA8QAAAAAAAACZAAAAAAAAANkAAAAAAAAAQQAAAAAAAAPh/AAAAAAAAM0AAAAAAAAAxQAAAAAAAADpAAAAAAAAAMEAAAAAAAAA6QAAAAAAAAEBAAAAAAAAAOUAAAAAAAAD4fwAAAAAAAPh/AAAAAAAAPkAAAAAAAAA2QAAAAAAAAD1AAAAAAAAA+H8AAAAAAIBAQAAAAAAAADBAAAAAAAAA+H8AAAAAAAA4QAAAAAAAAD1AAAAAAAAANEAAAAAAAAA6QAAAAAAAgE1AAAAAAAAA+H8AAAAAAAA8QAAAAAAAAPh/AAAAAACAQEAAAAAAAIBCQAAAAAAAADxAAAAAAAAANUAAAAAAAAD4fwAAAAAAAENAAAAAAAAA+H8AAAAAAAAtQAAAAAAAADZAAAAAAAAANEAAAAAAAAAxQAAAAAAAADVAAAAAAACgUUAAAAAAAAAAQAAAAAAAAPh/AAAAAAAAKEAAAAAAAAD4fwAAAAAAADhAAAAAAAAA+H8AAAAAAIBGQAAAAAAAgEBAAAAAAAAANEAAAAAAAIBHQAAAAAAAADBAAAAAAAAA+H8AAAAAAAA2QAAAAAAAADhAAAAAAAAAM0AAAAAAAAA7QAAAAAAAACJAAAAAAADAS0AAAAAAAEBEQAAAAAAAAPh/AAAAAAAAMEAAAAAAAAA+QAAAAAAAAPh/AAAAAAAA+H8AAAAAAABGQAAAAAAAADpAAAAAAAAAMUAAAAAAAADwPwAAAAAAACJAAAAAAACARkAAAAAAAAA8QAAAAAAAABBAAAAAAAAA8D8AAAAAAAA1QAAAAAAAADJAAAAAAAAA+H8AAAAAAABCQAAAAAAAAPh/AAAAAAAAIkAAAAAAAAAQQAAAAAAAAPh/AAAAAAAAREAAAAAAAABCQAAAAAAAADNAAAAAAAAA+H8AAAAAAABFQAAAAAAAAPh/AAAAAAAAPEAAAAAAAAD4fwAAAAAAAEFAAAAAAADARkAAAAAAAAAyQAAAAAAAAABAAAAAAAAAQEAAAAAAAAA6QAAAAAAAADBAAAAAAAAAOEAAAAAAAAA2QAAAAAAAAPh/AAAAAAAAO0AAAAAAAAAwQAAAAAAAgElAAAAAAAAA+H8AAAAAAAA2QAAAAAAAgDRAAAAAAAAA+H8AAAAAAAA9QAAAAAAAABRAAAAAAAAA+H8AAAAAAAD4fwAAAAAAAPh/AAAAAAAANkAAAAAAAAA+QAAAAAAAADlAAAAAAAAA+H8AAAAAAAA9QAAAAAAAAD5AAAAAAACAREAAAAAAAAA9QAAAAAAAAPh/AAAAAAAACEAAAAAAAAD4fwAAAAAAADBAAAAAAAAAOUAAAAAAAAA5QAAAAAAAAPh/AAAAAACARkAAAAAAAAAcQAAAAAAAgEFAAAAAAABAUEAAAAAAAAA8QAAAAAAAADBAAAAAAAAAM0AAAAAAAIBAQAAAAAAAAD5AAAAAAAAANkAAAAAAAAA2QAAAAAAAADhAAAAAAAAAOEAAAAAAAIA3QAAAAAAAAPh/AAAAAAAA+H8AAAAAAAAzQAAAAAAAAPh/AAAAAAAAPEAAAAAAAAA6QAAAAAAAADZAAAAAAAAAO0AAAAAAAAD4fwAAAAAAgE5AAAAAAAAAP0AAAAAAAAD4fwAAAAAAADBAAAAAAAAA+H8AAAAAAIBGQAAAAAAAAPh/AAAAAAAACEAAAAAAAABFQAAAAAAAADdAAAAAAAAALkAAAAAAAAA5QAAAAAAAAPh/AAAAAAAAPEAAAAAAAAD4fwAAAAAAAPh/AAAAAAAAREAAAAAAAIBGQAAAAAAAgEFAAAAAAAAA+H8AAAAAAAA+QAAAAAAAAPh/AAAAAAAA+H8AAAAAAAAyQAAAAAAAADNAAAAAAAAACEAAAAAAAAA2QAAAAAAAADRAAAAAAAAAM0AAAAAAAADwPwAAAAAAAEBAAAAAAAAA+H8AAAAAAADwPwAAAAAAAPh/AAAAAAAANUAAAAAAAAA8QAAAAAAAADhAAAAAAAAANkAAAAAAAAA/QAAAAAAAgENAAAAAAAAAOkAAAAAAAAA1QAAAAAAAADxAAAAAAAAANEAAAAAAAIBJQAAAAAAAADVAAAAAAAAA+H8AAAAAAAD4fwAAAAAAAPh/AAAAAAAARkAAAAAAAAD4fwAAAAAAACRAAAAAAAAA+H8AAAAAAAA1QAAAAAAAAD1AAAAAAAAAPEAAAAAAAAAyQAAAAAAAAPh/AAAAAAAA+H8AAAAAAABAQAAAAAAAAPh/AAAAAAAAMUAAAAAAAAA1QAAAAAAAADRAAAAAAAAAOUAAAAAAAAD4fwAAAAAAABRAAAAAAAAA+H8AAAAAAAD4fwAAAAAAAD1AAAAAAAAA+H8AAAAAAABBQAAAAAAAAPh/AAAAAAAAQ0AAAAAAAAD4fwAAAAAAAOg/AAAAAAAA+H8AAAAAAABDQAAAAAAAADZAAAAAAAAAPUAAAAAAAAA2QAAAAAAAAABAAAAAAAAAIkAAAAAAAABJQAAAAAAAgE9AAAAAAAAA+H8AAAAAAAA+QAAAAAAAACJAAAAAAAAA+H8AAAAAAAA1QAAAAAAAADVAAAAAAAAA+H8AAAAAAAD4fwAAAAAAADhAAAAAAAAAMUAAAAAAAAA1QAAAAAAAAPh/AAAAAACAQkAAAAAAAAA8QAAAAAAAADpAAAAAAAAAPUAAAAAAAAD4fwAAAAAAADhAAAAAAAAA+H8AAAAAAABAQAAAAAAAADZAAAAAAAAA+H8AAAAAAAD4fwAAAAAAQERAAAAAAACAQ0AAAAAAAAD4fwAAAAAAADFAAAAAAAAA+H8AAAAAAAA+QAAAAAAAAPh/AAAAAAAAIkAAAAAAAAAmQAAAAAAAgEBAAAAAAAAA+H8AAAAAAAA2QAAAAAAAADZAAAAAAAAAQkAAAAAAAAD4fwAAAAAAAERAAAAAAAAA+H8AAAAAAAD4fwAAAAAAADhAAAAAAAAAM0AAAAAAAAA9QAAAAAAAAPh/AAAAAAAAQEAAAAAAAAD4fwAAAAAAADBAAAAAAAAAM0AAAAAAAAD4fwAAAAAAAEBAAAAAAAAA+H8AAAAAAAA2QAAAAAAAAPh/AAAAAACAQUAAAAAAAIBHQAAAAAAAAPh/AAAAAAAAQkAAAAAAAIBIQAAAAAAAAPh/AAAAAAAA+H8AAAAAAABGQAAAAAAAAEJAAAAAAAAAPkAAAAAAAIBDQAAAAAAAAPh/AAAAAAAA+H8AAAAAAAD4fwAAAAAAgEFAAAAAAAAAQUAAAAAAAAA6QAAAAAAAADtAAAAAAAAANEAAAAAAAAA1QAAAAAAAADVAAAAAAAAAOkAAAAAAAAD4fwAAAAAAgElAAAAAAAAAIkAAAAAAAABAQAAAAAAAgERAAAAAAAAA+H8AAAAAAAA0QAAAAAAAAABAAAAAAAAA+H8AAAAAAADoPwAAAAAAADNAAAAAAAAA+H8AAAAAAAA3QAAAAAAAAPh/AAAAAAAANUAAAAAAAAD4fwAAAAAAADJAAAAAAAAA+H8AAAAAAABAQAAAAAAAAERAAAAAAAAAQkAAAAAAAAA0QAAAAAAAAPh/AAAAAACARUAAAAAAAAAyQAAAAAAAgDhAAAAAAAAAMkAAAAAAAIBFQAAAAAAAAPh/AAAAAAAANEAAAAAAAAAsQAAAAAAAACxAAAAAAAAAM0AAAAAAAAAyQAAAAAAAABBAAAAAAAAA+H8AAAAAAAA5QAAAAAAAAEZAAAAAAAAA+H8AAAAAAABFQAAAAAAAADJAAAAAAAAAOUAAAAAAAAA6QAAAAAAAAPh/AAAAAAAAPUAAAAAAAAAzQAAAAAAAAPh/AAAAAACAQEAAAAAAAAAxQAAAAAAAADRAAAAAAAAA+H8AAAAAAAA5QAAAAAAAACZAAAAAAACAPEAAAAAAAABIQAAAAAAAAPh/AAAAAAAA+H8AAAAAAAA4QAAAAAAAAD9AAAAAAAAAMEAAAAAAAAA/QAAAAAAAABhAAAAAAACAQEAAAAAAAAA3QAAAAAAAADxAAAAAAAAAQUAAAAAAAAD4fwAAAAAAgERAAAAAAAAANEAAAAAAAAAwQAAAAAAAgD5AAAAAAAAA+H8AAAAAAABAQAAAAAAAADhAAAAAAAAASEAAAAAAAAD4fwAAAAAAADJAAAAAAAAA+H8AAAAAAAAUQAAAAAAAAPh/AAAAAAAAKkAAAAAAAAD4fwAAAAAAADlAAAAAAAAAOUAAAAAAAAAyQAAAAAAAACBAAAAAAAAA8D8AAAAAAAD4fwAAAAAAAPh/AAAAAAAAOUAAAAAAAAA/QAAAAAAAAD5AAAAAAAAAPkDhehSuR+HaPwAAAAAAADtAAAAAAAAAP0AAAAAAAAAyQAAAAAAAADpAAAAAAACAQ0AAAAAAAAAYQAAAAAAAgD5AAAAAAAAAN0AAAAAAAIBFQAAAAAAAACRAAAAAAAAAO0AAAAAAAAA7QAAAAAAAAABAAAAAAAAA+H8AAAAAAAD4fwAAAAAAAPh/AAAAAAAALkAAAAAAAAD4fwAAAAAAADdAAAAAAAAAMkAAAAAAAAA1QAAAAAAAAPh/AAAAAAAAQEAAAAAAAAA0QAAAAAAAQEFAAAAAAAAAMUAAAAAAAABFQAAAAAAAAPh/AAAAAACAQUAAAAAAAAAQQAAAAAAAgFJAAAAAAAAAIkAAAAAAAAAyQAAAAAAAADhAAAAAAAAA+H8AAAAAAIBEQAAAAAAAAPh/AAAAAAAA+H8AAAAAAAAQQAAAAAAAADpAAAAAAACAR0AAAAAAAAAuQAAAAAAAADRAAAAAAAAAM0AAAAAAAAD4fwAAAAAAgEBAAAAAAAAANkAAAAAAAAA5QAAAAAAAgENAAAAAAAAA+H8AAAAAAABAQA==",
          "dtype": "f8"
         },
         "xaxis": "x",
         "y": {
          "bdata": "AAAAAAAAHUAzMzMzM7MfQJqZmZmZGSBAe4MvTKbqIEAzMzMzMxM1QBUdyeU/RCZAMzMzMzOzMECamZmZmRkgQGZmZmZmRj9ACfmgZ7NqH0AAAAAAACA9QAAAAAAAADJAZmZmZmbmHEAeFmpN8w4gQDMzMzMzEzVAMzMzMzNjP0BmZmZmZuYcQKOSOgFNhB9A9wZfmEyVH0AAAAAAAAAfQAn5oGez6hxAmpmZmZkZIEAAAAAAAAAyQOviNhrAeyZAMzMzMzPzIkD3Bl+YTJUfQKOSOgFNhB9AmpmZmZkZIEAAAAAAAAAvQAAAAAAAAB9AdnEbDeCtNUDNzMzMzMwxQAAAAAAA2ENAMzMzMzMzH0AJ+aBns+ocQDMzMzMzc0dACfmgZ7PqHEBmZmZmZuY7QK62Yn/ZfS5A4umVsgxRIEAzMzMzM7MfQDMzMzMzUyFAMzMzMzNzR0C4rwPnjOgsQKyt2F92P0xAmpmZmZmZHkD3Bl+YTJUfQJqZmZmZGSBAMzMzMzPzKEAAAAAAAAAiQAAAAAAAACNAZmZmZmYmH0AzMzMzM7MvQAAAAAAAMEFAmpmZmZkZIECamZmZmRkgQJqZmZmZGSBACfmgZ7NqH0AzMzMzM5M0QAAAAAAAAB1AmpmZmZkZIED3Bl+YTJUfQPcGX5hMlR9AHhZqTfNOIUAzMzMzM7MfQPcGX5hMlR9AmpmZmZmZHkCamZmZmRkfQPcGX5hMlR9AZmZmZmYmOEC4rwPnjOgsQJqZmZmZGSBAZmZmZmamI0B7gy9MpuosQDMzMzMzsx9AAAAAAAAAH0BmZmZmZkY/QJqZmZmZGSBA6+I2GsB7JkAAAAAAAAAfQHBfB84ZkRxAJCh+jLlbNkBmZmZmZuYbQPcGX5hMlR9AMzMzMzMzHEAAAAAAAAAtQB4Wak3zbiJArrZif9l9LkAAAAAAAAAfQDMzMzMzsy9AAAAAAAAAG0CQoPgx5i4fQAAAAAAAMEFAmpmZmZkZIEAAAAAAAAAtQAAAAAAAQB1AkKD4MebuHkCamZmZmRkgQDMzMzMzUyFAMzMzMzNjUUCamZmZmRkwQJqZmZmZGR9AMzMzMzNTIUAAAAAAANhDQGZmZmZmhjRAZmZmZmbmO0Csrdhfdj9MQAAAAAAAID1AFR3J5T9EJkAzMzMzM7MfQAn5oGezah9ADwu1pnl3OUAAAAAAAAAAADMzMzMzY1FAMzMzMzNjP0BmZmZmZgY2QAAAAAAAAC9AAAAAAAAAL0D3Bl+YTJUfQAn5oGezah9AAAAAAAAAH0AeFmpN884gQAAAAAAAAB9AAAAAAAAAI0AzMzMzM2NRQF1txf6y+xlAZmZmZmbmHECamZmZmRkgQM3MzMzM7CRAMzMzMzOzL0CamZmZmckyQAAAAAAAAB9AMzMzMzMzHEAAAAAAAAAdQAAAAAAAAB9AMzMzMzOzH0CamZmZmRkgQJqZmZmZGSBA9wZfmEyVH0AzMzMzM7MiQAAAAAAAAB1ADwu1pnl3OUCamZmZmRkfQDMzMzMzYz9AMzMzMzMzHkC4rwPnjOgsQAAAAAAAAC9AAAAAAACAHEBmZmZmZuYcQJqZmZmZGR9AAAAAAAAAHUDNzMzMzOwkQJqZmZmZGTBAZmZmZmY2NECutmJ/2X0uQAAAAAAAAB9AMzMzMzNjP0AAAAAAAAAfQAAAAAAA2ENAmpmZmZkZH0AAAAAAAAAAAAAAAAAAAB9AAAAAAAAAH0AAAAAAACA9QAAAAAAAQDRAAAAAAAAAH0AJ+aBns2ofQAAAAAAAACNAmpmZmZkZIEAzMzMzM1MhQAAAAAAAACNA9wZfmEyVH0AAAAAAAAAfQDMzMzMzsyFA9wZfmEyVH0AJ+aBns+ocQAAAAAAAAB9AAAAAAABAN0AAAAAAAAAAAJqZmZmZGSBA9wZfmEyVH0AJ+aBns2ofQAAAAAAAAB1A9wZfmEyVH0AzMzMzM2NRQDMzMzMz8xhAZmZmZmaGNEAAAAAAAEA3QAAAAAAAADJA9wZfmEyVH0CamZmZmRkgQJqZmZmZGTBAzczMzMzML0AzMzMzM1MhQDMzMzMzcyJACfmgZ7PqHEDNzMzMzMwxQGZmZmZm5hxAAAAAAAAAI0CjkjoBTYQfQKOSOgFNhB9AZmZmZmbmO0C4rwPnjOgsQDMzMzMzMxxAAAAAAAAAL0AAAAAAAAAdQAn5oGez6hxAAAAAAAAAH0BdbcX+svsZQJqZmZmZGSBAMzMzMzMTNUAAAAAAAAAdQM3MzMzMDBBAmpmZmZkZH0Dr4jYawHsvQDMzMzMzsx9A9wZfmEyVH0AzMzMzM3NHQAn5oGez6h5AkKD4MeYuH0AzMzMzM7MfQDMzMzMzszBAkKD4MeYuH0AJ+aBns2ofQDMzMzMzsx9AmpmZmZkZIEBmZmZmZqYjQDMzMzMzsy9AMzMzMzNTIUAAAAAAAAAfQJqZmZmZGR9ADwu1pnl3OUD3Bl+YTJUfQJCg+DHmbhtAMzMzMzOzH0CamZmZmRkgQGZmZmZmJjhA9wZfmEyVH0CQoPgx5u4eQAAAAAAAgB9AzczMzMzMLEBmZmZmZjY0QAAAAAAAAB1AAAAAAAAAH0CamZmZmRkgQJqZmZmZGTBAAAAAAACAHEAAAAAAADBBQAAAAAAAACNAmpmZmZkZH0CamZmZmTkgQIqO5PIfQjNADwu1pnn3M0CamZmZmRkgQPcGX5hMlR9AAAAAAAAAH0CamZmZmRkgQJqZmZmZGSBAMzMzMzMzHEBmZmZmZuYeQIqO5PIfQjNAAAAAAAAAHUAzMzMzM1MhQM3MzMzMrCNAkKD4MeYuHED3Bl+YTBUeQDMzMzMzkyhAMzMzMzNzR0CamZmZmRkgQM3MzMzMLCNADwu1pnl3OUCamZmZmRkgQM3MzMzMzC9ADwu1pnn3M0AAAAAAAAAdQJqZmZmZGSBAe4MvTKbqLEAzMzMzMzMuQJCg+DHmLh9AMzMzMzNTIUAAAAAAAAAfQKOSOgFNhB5AzczMzMwsI0BmZmZmZoY2QKyt2F92P0xAAAAAAAAAH0CamZmZmRkgQF1txf6y+x1AZmZmZmYmOED3Bl+YTJUfQPcGX5hMlR9AZmZmZmbmHEAJ+aBns+ocQAAAAAAAAB9AMzMzMzOzH0AJ+aBns+ocQAn5oGez6hxAJCh+jLlbNkAzMzMzM1MhQAAAAAAAAC1AZmZmZmZGP0BmZmZmZkY/QGZmZmZmhjRAcF8HzhlRH0BmZmZmZuYcQJqZmZmZGR9AZmZmZmZmMUAAAAAAAAAfQPcGX5hMlR9AmpmZmZkZIECamZmZmRkgQGZmZmZmJjhA9wZfmEyVH0AzMzMzMxM1QAn5oGez6hxACfmgZ7NqH0AAAAAAAAAfQJqZmZmZGSBAAAAAAAAALUB7gy9MpuosQDMzMzMzsx9AzczMzMxsIUCamZmZmRkgQJqZmZmZGSBAAAAAAACAHEAAAAAAAAAdQAAAAAAAAB9AZmZmZmYmOEAAAAAAAAAAAGZmZmZm5hxA9wZfmEyVH0CamZmZmRkgQJqZmZmZGS9A9wZfmEyVH0BmZmZmZkY/QDMzMzMzMxxAAAAAAAAAL0AAAAAAAAAfQJqZmZmZGSBAzczMzMzMLECamZmZmRkwQLivA+eM6CxA6+I2GsB7L0AJ+aBns2ofQJqZmZmZGTBA9wZfmEyVH0CQoPgx5u4eQNbFbTSANxxAZmZmZmbmO0AzMzMzM7MfQAAAAAAA2ENAmpmZmZkZMEAJ+aBns2ofQGZmZmZm5jtArK3YX3Y/TECKjuTyH0IzQPcGX5hMlR9AMzMzMzMzHkAzMzMzMzMeQPcGX5hMlR9ArrZif9ndIEBwXwfOGVEfQAAAAAAAABtA9wZfmEyVH0AAAAAAAAAvQGZmZmZm5hxAXW3F/rL7HUAzMzMzM7MfQJqZmZmZGR9AmpmZmZkZIECamZmZmRkfQJqZmZmZGSBAHhZqTfOuI0AzMzMzM3NHQGZmZmZmRiBAMzMzMzNzIkAzMzMzM3NHQAAAAAAA2ENASFD8GHNXJECQoPgx5i4fQIV80LNZ1SpArK3YX3Y/TEBmZmZmZuYcQJqZmZmZGSBAkKD4MebuHkCamZmZmZkeQLivA+eM6CxA1sVtNID3HkAJ+aBns2ofQK62Yn/ZfS5ASFD8GHP3IkCamZmZmZkeQAAAAAAAAC9AmpmZmZkZH0DWxW00gDccQDMzMzMzUyFAMzMzMzPzHkAzMzMzM7MfQJqZmZmZyTJAmpmZmZkZMEAAAAAAADBBQPcGX5hMlR9A9wZfmEyVH0CamZmZmRkwQDMzMzMzsx9AAAAAAABANEAAAAAAAAAfQDMzMzMz8yhAAAAAAAAAI0D3Bl+YTJUfQJCg+DHmLh9AmpmZmZkZIEAAAAAAAAAtQAAAAAAAgBxACfmgZ7PqHECamZmZmRkfQAAAAAAAAB9AZmZmZmYmOECamZmZmbkgQAAAAAAAACNACfmgZ7NqH0BmZmZmZuYcQAAAAAAAAB9AAAAAAAAAH0AzMzMzM/MoQDMzMzMz8x5ACfmgZ7PqHEAzMzMzM3M3QDMzMzMzMxxAAAAAAAAAHUBdbcX+svsdQAAAAAAAID1AMzMzMzOTNEAAAAAAAAAfQDMzMzMzY1FA9wZfmEyVH0CutmJ/2V0hQAn5oGez6hxAZmZmZmYmOEC4rwPnjAghQGZmZmZm5htAmpmZmZkZH0CamZmZmRkfQM3MzMzMjB9AZmZmZmYmOEBmZmZmZkY/QJqZmZmZGSBAMzMzMzOzH0DNzMzMzMwZQGZmZmZm5jtAMzMzMzNTIUAzMzMzM/MoQAAAAAAA2ENAzczMzMzMG0Csrdhfdj9MQAAAAAAAAB9AuK8D54zoLEAJ+aBns+ocQAn5oGezah9AmpmZmZmZIEAzMzMzM1MhQJqZmZmZGSBArK3YX3Y/TEAzMzMzM7MfQAAAAAAAwBlAMzMzMzNTIUAzMzMzMzMeQDMzMzMzY1FA9wZfmEyVH0BmZmZmZkY/QJqZmZmZGR9ArrZif9l9LkAzMzMzM7MiQIqO5PIfQjNACfmgZ7PqHEBIUPwYczcsQDMzMzMzY1FAAAAAAAAAI0AVHcnlP0QmQPcGX5hMlR9AAAAAAAAAIkBmZmZmZuYcQOLplbIMsSNA9wZfmEyVH0D3Bl+YTJUfQPcGX5hMlR9AuK8D54wIJUAzMzMzMzMcQAAAAAAAID1AMzMzMzNzN0AAAAAAAAAfQA==",
          "dtype": "f8"
         },
         "yaxis": "y"
        },
        {
         "customdata": [
          [
           "female",
           "C"
          ],
          [
           "female",
           "S"
          ],
          [
           "male",
           "S"
          ],
          [
           "female",
           "S"
          ],
          [
           "male",
           "S"
          ],
          [
           "male",
           "S"
          ],
          [
           "male",
           "C"
          ],
          [
           "female",
           "C"
          ],
          [
           "male",
           "C"
          ],
          [
           "male",
           "S"
          ],
          [
           "female",
           "C"
          ],
          [
           "male",
           "C"
          ],
          [
           "male",
           "S"
          ],
          [
           "female",
           null
          ],
          [
           "male",
           "S"
          ],
          [
           "male",
           "C"
          ],
          [
           "male",
           "S"
          ],
          [
           "female",
           "S"
          ],
          [
           "male",
           "S"
          ],
          [
           "male",
           "C"
          ],
          [
           "male",
           "C"
          ],
          [
           "male",
           "S"
          ],
          [
           "male",
           "S"
          ],
          [
           "male",
           "C"
          ],
          [
           "male",
           "S"
          ],
          [
           "female",
           "S"
          ],
          [
           "male",
           "S"
          ],
          [
           "male",
           "C"
          ],
          [
           "female",
           "S"
          ],
          [
           "male",
           "C"
          ],
          [
           "female",
           "S"
          ],
          [
           "male",
           "S"
          ],
          [
           "male",
           "S"
          ],
          [
           "male",
           "C"
          ],
          [
           "female",
           "C"
          ],
          [
           "male",
           "S"
          ],
          [
           "male",
           "S"
          ],
          [
           "female",
           "C"
          ],
          [
           "female",
           "C"
          ],
          [
           "male",
           "C"
          ],
          [
           "female",
           "C"
          ],
          [
           "female",
           "C"
          ],
          [
           "male",
           "S"
          ],
          [
           "female",
           "S"
          ],
          [
           "male",
           "Q"
          ],
          [
           "male",
           "S"
          ],
          [
           "male",
           "S"
          ],
          [
           "female",
           "C"
          ],
          [
           "female",
           "S"
          ],
          [
           "female",
           "C"
          ],
          [
           "male",
           "S"
          ],
          [
           "male",
           "S"
          ],
          [
           "female",
           "S"
          ],
          [
           "female",
           "S"
          ],
          [
           "male",
           "S"
          ],
          [
           "male",
           "C"
          ],
          [
           "female",
           "S"
          ],
          [
           "male",
           "S"
          ],
          [
           "female",
           "S"
          ],
          [
           "female",
           "C"
          ],
          [
           "male",
           "C"
          ],
          [
           "female",
           "S"
          ],
          [
           "male",
           "S"
          ],
          [
           "female",
           "C"
          ],
          [
           "male",
           "S"
          ],
          [
           "female",
           "C"
          ],
          [
           "female",
           "C"
          ],
          [
           "female",
           "C"
          ],
          [
           "female",
           "C"
          ],
          [
           "female",
           "C"
          ],
          [
           "female",
           "S"
          ],
          [
           "female",
           "C"
          ],
          [
           "female",
           "C"
          ],
          [
           "female",
           "C"
          ],
          [
           "male",
           "S"
          ],
          [
           "male",
           "S"
          ],
          [
           "female",
           "S"
          ],
          [
           "male",
           "S"
          ],
          [
           "female",
           "C"
          ],
          [
           "male",
           "S"
          ],
          [
           "female",
           "S"
          ],
          [
           "male",
           "S"
          ],
          [
           "female",
           "S"
          ],
          [
           "female",
           "C"
          ],
          [
           "female",
           "C"
          ],
          [
           "male",
           "C"
          ],
          [
           "male",
           "C"
          ],
          [
           "female",
           "C"
          ],
          [
           "male",
           "C"
          ],
          [
           "female",
           "C"
          ],
          [
           "female",
           "S"
          ],
          [
           "male",
           "S"
          ],
          [
           "female",
           "C"
          ],
          [
           "female",
           "Q"
          ],
          [
           "male",
           "S"
          ],
          [
           "male",
           "S"
          ],
          [
           "female",
           "S"
          ],
          [
           "male",
           "S"
          ],
          [
           "male",
           "S"
          ],
          [
           "male",
           "S"
          ],
          [
           "male",
           "S"
          ],
          [
           "male",
           "C"
          ],
          [
           "male",
           "C"
          ],
          [
           "male",
           "S"
          ],
          [
           "female",
           "S"
          ],
          [
           "male",
           "S"
          ],
          [
           "male",
           "S"
          ],
          [
           "male",
           "S"
          ],
          [
           "male",
           "S"
          ],
          [
           "male",
           "C"
          ],
          [
           "female",
           "S"
          ],
          [
           "male",
           "C"
          ],
          [
           "male",
           "S"
          ],
          [
           "male",
           "C"
          ],
          [
           "female",
           "C"
          ],
          [
           "female",
           "S"
          ],
          [
           "female",
           "S"
          ],
          [
           "male",
           "C"
          ],
          [
           "male",
           "S"
          ],
          [
           "male",
           "S"
          ],
          [
           "female",
           "C"
          ],
          [
           "male",
           "S"
          ],
          [
           "female",
           "S"
          ],
          [
           "female",
           "C"
          ],
          [
           "male",
           "S"
          ],
          [
           "male",
           "S"
          ],
          [
           "female",
           "C"
          ],
          [
           "female",
           "C"
          ],
          [
           "female",
           "S"
          ],
          [
           "male",
           "C"
          ],
          [
           "male",
           "S"
          ],
          [
           "male",
           "C"
          ],
          [
           "male",
           "S"
          ],
          [
           "female",
           "C"
          ],
          [
           "male",
           "C"
          ],
          [
           "female",
           "S"
          ],
          [
           "female",
           "S"
          ],
          [
           "male",
           "S"
          ],
          [
           "female",
           "S"
          ],
          [
           "female",
           "C"
          ],
          [
           "male",
           "C"
          ],
          [
           "female",
           "S"
          ],
          [
           "male",
           "C"
          ],
          [
           "female",
           "C"
          ],
          [
           "male",
           "C"
          ],
          [
           "male",
           "S"
          ],
          [
           "male",
           "C"
          ],
          [
           "male",
           "S"
          ],
          [
           "female",
           "S"
          ],
          [
           "male",
           "S"
          ],
          [
           "male",
           "S"
          ],
          [
           "female",
           "S"
          ],
          [
           "male",
           "S"
          ],
          [
           "male",
           "C"
          ],
          [
           "male",
           "S"
          ],
          [
           "female",
           "C"
          ],
          [
           "male",
           "C"
          ],
          [
           "male",
           "C"
          ],
          [
           "male",
           "C"
          ],
          [
           "male",
           "S"
          ],
          [
           "male",
           "S"
          ],
          [
           "female",
           "S"
          ],
          [
           "male",
           "S"
          ],
          [
           "male",
           "C"
          ],
          [
           "male",
           "C"
          ],
          [
           "female",
           "S"
          ],
          [
           "male",
           "S"
          ],
          [
           "male",
           "S"
          ],
          [
           "male",
           "C"
          ],
          [
           "female",
           "C"
          ],
          [
           "male",
           "S"
          ],
          [
           "male",
           "S"
          ],
          [
           "female",
           "S"
          ],
          [
           "female",
           "C"
          ],
          [
           "male",
           "S"
          ],
          [
           "male",
           "S"
          ],
          [
           "female",
           "C"
          ],
          [
           "male",
           "S"
          ],
          [
           "female",
           "S"
          ],
          [
           "male",
           "C"
          ],
          [
           "male",
           "S"
          ],
          [
           "male",
           "S"
          ],
          [
           "female",
           "C"
          ],
          [
           "male",
           "S"
          ],
          [
           "male",
           "S"
          ],
          [
           "female",
           "S"
          ],
          [
           "female",
           "S"
          ],
          [
           "female",
           "S"
          ],
          [
           "male",
           "C"
          ],
          [
           "female",
           "S"
          ],
          [
           "female",
           "S"
          ],
          [
           "male",
           "S"
          ],
          [
           "male",
           "C"
          ],
          [
           "male",
           "C"
          ],
          [
           "female",
           "S"
          ],
          [
           "male",
           "S"
          ],
          [
           "male",
           "S"
          ],
          [
           "female",
           "S"
          ],
          [
           "male",
           "S"
          ],
          [
           "female",
           "S"
          ],
          [
           "male",
           "S"
          ],
          [
           "female",
           null
          ],
          [
           "female",
           "C"
          ],
          [
           "male",
           "C"
          ],
          [
           "female",
           "C"
          ],
          [
           "female",
           "C"
          ],
          [
           "female",
           "S"
          ],
          [
           "female",
           "S"
          ],
          [
           "male",
           "S"
          ],
          [
           "female",
           "S"
          ],
          [
           "male",
           "S"
          ],
          [
           "female",
           "S"
          ],
          [
           "male",
           "S"
          ],
          [
           "female",
           "C"
          ],
          [
           "female",
           "S"
          ],
          [
           "male",
           "C"
          ]
         ],
         "hovertemplate": "Passenger Class=1<br>Passenger Age=%{x}<br>Fare Paid=%{marker.size}<br>Sex=%{customdata[0]}<br>Embarked=%{customdata[1]}<br>Survival (0 = No, 1 = Yes)=%{marker.color}<extra></extra>",
         "legendgroup": "1",
         "marker": {
          "color": {
           "bdata": "AQEAAQEAAAEAAAEAAQEAAAABAAABAAAAAAEAAAEAAQAAAAAAAQEBAQEBAQEAAQABAQEAAAEBAAABAAEBAAABAQEBAQEBAQEBAQEAAAEAAQABAAEBAQEAAQABAQEBAQEAAQABAQEAAQABAQAAAAEBAAAAAQABAAEBAQABAQAAAQEBAAABAAEAAQEBAQEAAQEBAQABAQEBAAEBAQABAQEAAQABAAEBAQEAAAEBAQEBAAEBAQEBAQABAAABAQEAAQEAAAABAQABAAEAAQEBAQEBAQEBAAEAAQEB",
           "dtype": "i1"
          },
          "coloraxis": "coloraxis",
          "size": {
           "bdata": "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",
           "dtype": "f8"
          },
          "sizemode": "area",
          "sizeref": 1.280823,
          "symbol": "diamond"
         },
         "mode": "markers",
         "name": "1",
         "orientation": "v",
         "showlegend": true,
         "type": "scatter",
         "x": {
          "bdata": "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",
          "dtype": "f8"
         },
         "xaxis": "x",
         "y": {
          "bdata": "PL1SliHSUUDNzMzMzIxKQGZmZmZm7klAzczMzMyMOkAAAAAAAMBBQAAAAAAAcHBA8fRKWYa4O0A4+MJkqlBiQAmKH2PuilRAAAAAAAAASkCRD3o2qy5TQCEf9GxW/U5AAAAAAADAQUAAAAAAAABUQGZmZmZm3lRA8fRKWYa4O0DNzMzMzIxHQAAAAAAAcHBAZmZmZmaWTkCIhVrTvFNBQBIUP8bcrU9AZmZmZmZSU0AAAAAAAABKQDj4wmSq8G5AZmZmZmZSU0Dx9EpZhkg6QM3MzMzMjEpAzczMzMzMU0BmZmZmZqZQQFRSJ6CJsE5AAAAAAACAS0DNzMzMzOw5QAAAAAAAwEBAio7k8h+yPkBmZmZmZrY8QAAAAAAAAElAzczMzMyMOkDx9EpZhrg7QDj4wmSqUGJAAAAAAAAAP0CamZmZmVFcQJEPejarElNAAAAAAACAVkBmZmZmZt5UQAAAAAAAgFZAu7iNBvBGSkDNzMzMzIw6QM3MzMzMzFNAAAAAAACgVUC/DpwzogKAQJqZmZmZ6VNAAAAAAAAAAADNzMzMzC5jQNGRXP5D9GBAAAAAAAAAP0AzMzMzM7M9QG/whclUfVNAAAAAAAAAOkBmZmZmZrZTQPd14JwRxVZA8fRKWYa4O0CamZmZmfFiQAAAAAAAgD5AOPjCZKrwbkCamZmZmfFiQKMjufyHuFtAmpmZmZk5W0C7uI0G8HZMQDy9UpYhylRAAAAAAABmcEAvbqMBvJtkQAAAAAAA0GBA0ZFc/kP0YEAhH/RsVv1MQAAAAAAAgDxAzczMzMwuY0DNzMzMzLRgQGZmZmZmplBAAAAAAADQYEAAAAAAAMBBQAAAAAAAcHBAAAAAAACAQUAAAAAAAIBLQAAAAAAA0FJAMzMzMzNTUUBUUiegibhLQNGRXP5D9GBACYofY+6KVEAAAAAAAHBqQM3MzMzMcGxAAAAAAAAASkAAAAAAAABeQJqZmZmZUVxAAAAAAACAVkDNzMzMzIw6QDMzMzMz80tAAAAAAAAAXkAAAAAAAHBwQAmKH2PudlRAzczMzMyMOkAAAAAAAIA+QAAAAAAAwDtAkQ96NqtGVkDNzMzMzIw6QGZmZmZm7klAzczMzMyMOkAAAAAAAEBDQM3MzMzMjDpAAAAAAAAASkD3deCcEcVWQAAAAAAAgFZAMzMzMzOzPUAAAAAAAIA+QFRSJ6CJwEhA93XgnBGRU0CamZmZmfFiQAAAAAAAoFVAmpmZmZk5W0DNzMzMzIw6QJqZmZmZSTpAMzMzMzOzTUDf4AuTqQJBQAAAAAAAYFdAIR/0bFb9TEBiodY077hrQM3MzMzMjDpAMzMzMzObWkAAAAAAAMBIQAAAAAAAwFFAMzMzMzObWkAAAAAAAAA6QKMjufyHuFtAzczMzMyMOkDNzMzMzMxDQM3MzMzMcGxAmpmZmZnpU0AhH/RsVr1JQDMzMzMzYzpAMzMzMzPzS0CjI7n8h7hbQAAAAAAAEERAmpmZmZnpU0DNzMzMzMxTQPd14JwRkVNAu7iNBvB2TEAzMzMzMzNFQM3MzMzMjDpAAAAAAACAPkDNzMzMzC5jQLu4jQbwRkpARUdy+Q8pQEBv8IXJVH1TQAAAAAAAAD5AAAAAAACAPkAAAAAAAAAAADMzMzMzU1FAkQ96NqsuU0AAAAAAAMBBQJqZmZmZUVxAzczMzMy0YEBmZmZmZpY5QAAAAAAAAEpAAAAAAAAASkC/DpwzogKAQJEPejarLlNAzczMzMxqakAAAAAAAIBMQM3MzMzMjDpAoyO5/Ie4W0DNzMzMzHBsQJqZmZmZSTpAmpmZmZlJOkCamZmZmfFiQFRSJ6CJwEhAzczMzMyMOkAAAAAAAABKQM3MzMzMcGxAzczMzMyMSkDNzMzMzGpqQL8OnDOiAoBAAAAAAAAAPkBmZmZmZrZTQAAAAAAAZnBAAAAAAADAUUDNzMzMzIxKQAAAAAAAoFVAAAAAAAAAXkBv8IXJVH1TQM3MzMzMzENAzczMzMxqakAAAAAAAIBMQAAAAAAAAD5AzczMzMzMU0CKjuTyH7I+QHZxGw3g7TlAAAAAAAAAXkAAAAAAAAAAAM3MzMzMjEpAAAAAAAAAAAAAAAAAAGBXQAAAAAAAAAAAAAAAAAAAVEA8vVKWIcpUQDMzMzMzsz1AAAAAAAAAP0CRD3o2q0ZWQDMzMzMzs0NAL26jAbybZEDNzMzMzIw6QHZxGw3g7TlArK3YX3Y/SUC7uI0G8EZKQAAAAAAAABRAPL1SliHKVEAAAAAAAAA+QAAAAAAAAD5A",
          "dtype": "f8"
         },
         "yaxis": "y"
        },
        {
         "customdata": [
          [
           "female",
           "C"
          ],
          [
           "female",
           "S"
          ],
          [
           "male",
           "S"
          ],
          [
           "male",
           "S"
          ],
          [
           "male",
           "S"
          ],
          [
           "male",
           "S"
          ],
          [
           "female",
           "S"
          ],
          [
           "female",
           "C"
          ],
          [
           "female",
           "S"
          ],
          [
           "female",
           "S"
          ],
          [
           "female",
           "S"
          ],
          [
           "female",
           "S"
          ],
          [
           "male",
           "S"
          ],
          [
           "male",
           "S"
          ],
          [
           "male",
           "S"
          ],
          [
           "female",
           "S"
          ],
          [
           "female",
           "S"
          ],
          [
           "male",
           "S"
          ],
          [
           "male",
           "S"
          ],
          [
           "male",
           "S"
          ],
          [
           "male",
           "C"
          ],
          [
           "female",
           "S"
          ],
          [
           "female",
           "S"
          ],
          [
           "male",
           "S"
          ],
          [
           "male",
           "C"
          ],
          [
           "male",
           "S"
          ],
          [
           "male",
           "S"
          ],
          [
           "male",
           "S"
          ],
          [
           "male",
           "S"
          ],
          [
           "male",
           "S"
          ],
          [
           "female",
           "S"
          ],
          [
           "male",
           "S"
          ],
          [
           "male",
           "C"
          ],
          [
           "male",
           "S"
          ],
          [
           "female",
           "S"
          ],
          [
           "male",
           "S"
          ],
          [
           "male",
           "S"
          ],
          [
           "female",
           "S"
          ],
          [
           "female",
           "S"
          ],
          [
           "male",
           "S"
          ],
          [
           "male",
           "S"
          ],
          [
           "male",
           "S"
          ],
          [
           "male",
           "S"
          ],
          [
           "male",
           "S"
          ],
          [
           "male",
           "S"
          ],
          [
           "male",
           "S"
          ],
          [
           "male",
           "S"
          ],
          [
           "male",
           "S"
          ],
          [
           "female",
           "S"
          ],
          [
           "male",
           "S"
          ],
          [
           "male",
           "S"
          ],
          [
           "male",
           "S"
          ],
          [
           "female",
           "S"
          ],
          [
           "male",
           "S"
          ],
          [
           "female",
           "S"
          ],
          [
           "male",
           "S"
          ],
          [
           "female",
           "S"
          ],
          [
           "male",
           "S"
          ],
          [
           "male",
           "S"
          ],
          [
           "male",
           "C"
          ],
          [
           "female",
           "Q"
          ],
          [
           "male",
           "C"
          ],
          [
           "female",
           "S"
          ],
          [
           "male",
           "S"
          ],
          [
           "female",
           "S"
          ],
          [
           "male",
           "S"
          ],
          [
           "female",
           "Q"
          ],
          [
           "female",
           "S"
          ],
          [
           "female",
           "S"
          ],
          [
           "male",
           "S"
          ],
          [
           "male",
           "S"
          ],
          [
           "male",
           "S"
          ],
          [
           "male",
           "S"
          ],
          [
           "female",
           "S"
          ],
          [
           "female",
           "S"
          ],
          [
           "female",
           "S"
          ],
          [
           "male",
           "C"
          ],
          [
           "male",
           "S"
          ],
          [
           "female",
           "S"
          ],
          [
           "female",
           "C"
          ],
          [
           "male",
           "S"
          ],
          [
           "male",
           "S"
          ],
          [
           "female",
           "S"
          ],
          [
           "male",
           "S"
          ],
          [
           "male",
           "S"
          ],
          [
           "male",
           "S"
          ],
          [
           "female",
           "S"
          ],
          [
           "female",
           "S"
          ],
          [
           "male",
           "S"
          ],
          [
           "female",
           "S"
          ],
          [
           "female",
           "S"
          ],
          [
           "female",
           "S"
          ],
          [
           "female",
           "S"
          ],
          [
           "male",
           "S"
          ],
          [
           "female",
           "S"
          ],
          [
           "female",
           "S"
          ],
          [
           "female",
           "S"
          ],
          [
           "male",
           "S"
          ],
          [
           "female",
           "S"
          ],
          [
           "male",
           "S"
          ],
          [
           "male",
           "S"
          ],
          [
           "female",
           "S"
          ],
          [
           "female",
           "C"
          ],
          [
           "male",
           "S"
          ],
          [
           "male",
           "S"
          ],
          [
           "female",
           "S"
          ],
          [
           "female",
           "S"
          ],
          [
           "female",
           "S"
          ],
          [
           "female",
           "S"
          ],
          [
           "male",
           "S"
          ],
          [
           "female",
           "S"
          ],
          [
           "female",
           "S"
          ],
          [
           "male",
           "S"
          ],
          [
           "female",
           "S"
          ],
          [
           "male",
           "C"
          ],
          [
           "male",
           "S"
          ],
          [
           "male",
           "S"
          ],
          [
           "male",
           "S"
          ],
          [
           "male",
           "S"
          ],
          [
           "female",
           "S"
          ],
          [
           "female",
           "S"
          ],
          [
           "male",
           "S"
          ],
          [
           "male",
           "S"
          ],
          [
           "male",
           "S"
          ],
          [
           "female",
           "S"
          ],
          [
           "female",
           "S"
          ],
          [
           "female",
           "C"
          ],
          [
           "female",
           "S"
          ],
          [
           "female",
           "S"
          ],
          [
           "male",
           "S"
          ],
          [
           "male",
           "Q"
          ],
          [
           "female",
           "S"
          ],
          [
           "male",
           "S"
          ],
          [
           "female",
           "S"
          ],
          [
           "male",
           "S"
          ],
          [
           "male",
           "S"
          ],
          [
           "male",
           "S"
          ],
          [
           "male",
           "S"
          ],
          [
           "female",
           "S"
          ],
          [
           "male",
           "S"
          ],
          [
           "male",
           "S"
          ],
          [
           "male",
           "S"
          ],
          [
           "male",
           "S"
          ],
          [
           "male",
           "C"
          ],
          [
           "male",
           "S"
          ],
          [
           "male",
           "S"
          ],
          [
           "female",
           "S"
          ],
          [
           "male",
           "S"
          ],
          [
           "female",
           "S"
          ],
          [
           "female",
           "S"
          ],
          [
           "male",
           "S"
          ],
          [
           "male",
           "S"
          ],
          [
           "female",
           "S"
          ],
          [
           "male",
           "S"
          ],
          [
           "male",
           "S"
          ],
          [
           "male",
           "S"
          ],
          [
           "male",
           "S"
          ],
          [
           "female",
           "S"
          ],
          [
           "female",
           "S"
          ],
          [
           "female",
           "S"
          ],
          [
           "male",
           "S"
          ],
          [
           "male",
           "S"
          ],
          [
           "female",
           "S"
          ],
          [
           "female",
           "S"
          ],
          [
           "male",
           "S"
          ],
          [
           "male",
           "S"
          ],
          [
           "male",
           "S"
          ],
          [
           "female",
           "S"
          ],
          [
           "male",
           "S"
          ],
          [
           "male",
           "S"
          ],
          [
           "male",
           "C"
          ],
          [
           "male",
           "C"
          ],
          [
           "male",
           "S"
          ],
          [
           "male",
           "S"
          ],
          [
           "male",
           "S"
          ],
          [
           "female",
           "S"
          ],
          [
           "male",
           "S"
          ],
          [
           "male",
           "S"
          ],
          [
           "female",
           "S"
          ],
          [
           "female",
           "C"
          ],
          [
           "female",
           "C"
          ],
          [
           "female",
           "S"
          ],
          [
           "male",
           "S"
          ],
          [
           "male",
           "S"
          ]
         ],
         "hovertemplate": "Passenger Class=2<br>Passenger Age=%{x}<br>Fare Paid=%{marker.size}<br>Sex=%{customdata[0]}<br>Embarked=%{customdata[1]}<br>Survival (0 = No, 1 = Yes)=%{marker.color}<extra></extra>",
         "legendgroup": "2",
         "marker": {
          "color": {
           "bdata": "AQEBAAEAAAEBAQEBAAABAQEAAAAAAQEAAAAAAAAAAQAAAQEAAQABAAAAAAEAAAAAAQAAAAEAAQABAAEAAQAAAAEAAQEBAQAAAAEBAAAAAQEAAAEAAQABAQABAQEBAAEBAQABAAABAQAAAQEBAQABAQEBAQEAAAEBAQAAAAEBAQEBAAABAAEAAAAAAQABAAAAAAABAAEBAAABAAAAAAEBAQEAAAEAAAABAAAAAQEAAAAAAAEBAQEAAA==",
           "dtype": "i1"
          },
          "coloraxis": "coloraxis",
          "size": {
           "bdata": "io7k8h8SPkAAAAAAAAAwQAAAAAAAACpAAAAAAAAAOkAAAAAAAAAqQAAAAAAAACVAAAAAAAAANUDu68A5I8pEQAAAAAAAADpAAAAAAAAAJUAAAAAAAMA7QAAAAAAAACVAAAAAAAAAJUAAAAAAAGBSQAAAAAAAAD1AAAAAAAAAJUAAAAAAAAA3QAAAAAAAADpAAAAAAAAANUAAAAAAAGBSQIqO5PIfEj5AAAAAAAAAKkAAAAAAAAA6QAAAAAAAACpASFD8GHMXLkAAAAAAAAAnQAAAAAAAYEJAAAAAAAAAOkAAAAAAAAAqQM3MzMzMDClAAAAAAACAL0AAAAAAAAAqQJqZmZmZGS5AAAAAAACAQ0AAAAAAAAAqQAAAAAAAACpAAAAAAAAAOkAAAAAAAAAqQAAAAAAAADVAAAAAAAAAKkAAAAAAAAA7QAAAAAAAACVAAAAAAAAAKkAAAAAAAAAlQAAAAAAAACpAAAAAAAAAK0AAAAAAAAAlQAAAAAAAADpAAAAAAABAOkAAAAAAAAAlQM3MzMzMjChAAAAAAAAAJUAAAAAAAAAtQAAAAAAAADpAAAAAAAAAOkAAAAAAAAAlQAAAAAAAgDNAAAAAAAAAAAAAAAAAAAAqQAAAAAAAwClAMzMzMzOzKEAAAAAAAAA4QAAAAAAAADpAAAAAAABAOkAAAAAAAAA6QAAAAAAAACxAMzMzMzOzKEAAAAAAAAA9QAAAAAAAACpAAAAAAAAAOkAAAAAAAAAqQAAAAAAAACpAAAAAAAAAKkAAAAAAAAAqQAAAAAAAACpAAAAAAAAAKkDx9EpZhrg7QAAAAAAAYFJAAAAAAAAAKkAAAAAAAAAoQAAAAAAAADpAAAAAAAAAJUDNzMzMzEwpQAAAAAAAADVAAAAAAADAMkAAAAAAAAAAAAAAAAAAQEBAAAAAAAAAKkAAAAAAAAAqQAAAAAAAADpAAAAAAAAAOkAAAAAAAAA6QAAAAAAAwDJAAAAAAAAAJUAAAAAAAEA6QAAAAAAAACpAAAAAAACAM0AAAAAAAMA7QAAAAAAAACVAAAAAAAAAKkAAAAAAAAAAAAAAAAAAwDtAhXzQs1mVK0AAAAAAAAA1QAAAAAAAAAAAAAAAAAAAOkAAAAAAAAAlQAAAAAAAADpAAAAAAAAAJUAAAAAAAAAnQAAAAAAAADpAAAAAAABAOkAAAAAAAAA6QAAAAAAAADpAmpmZmZm5K0AAAAAAAGBCQAAAAAAAADpAAAAAAAAAK0AAAAAAAAAlQAAAAAAAACpAAAAAAAAAPkAAAAAAAAA6QAAAAAAAAC5AAAAAAAAAOkAAAAAAAIBAQAAAAAAAADtA7uvAOSPKREAAAAAAAEBQQAAAAAAAgENAAAAAAAAAJUAzMzMzM7MoQAAAAAAAACpAAAAAAABAOkAAAAAAAAA3QAAAAAAAYFJAAAAAAAAAKkAAAAAAAGBSQAAAAAAAACpAAAAAAACAQ0AAAAAAAAAlQAAAAAAAACpAAAAAAAAAAAAAAAAAAIBDQO7rwDkjykRAAAAAAAAAK0AAAAAAAAA6QAAAAAAAACtAAAAAAAAAKkAAAAAAAAAlQAAAAAAAgEBAAAAAAAAAKkAAAAAAAAAqQAAAAAAAADVAAAAAAAAAOkAAAAAAAAAAAAAAAAAAACpAAAAAAAAAKkAAAAAAAAAqQAAAAAAAADdAAAAAAABAUEAAAAAAAAAtQAAAAAAAACdAAAAAAAAAJUAAAAAAAAA3QAAAAAAAADpAAAAAAAAAKkAAAAAAAAAqQAAAAAAAQDpAAAAAAAAAKkAAAAAAAAAlQFRSJ6CJgEJAVFInoImAQkAAAAAAAMAyQAAAAAAAACVAAAAAAACAQEAAAAAAAAA6QAAAAAAAACdAAAAAAAAAKkAAAAAAAAAqQEhQ/BhztytAAAAAAAAAOEAAAAAAAAA6QAAAAAAAACVAAAAAAAAAKkA=",
           "dtype": "f8"
          },
          "sizemode": "area",
          "sizeref": 1.280823,
          "symbol": "square"
         },
         "mode": "markers",
         "name": "2",
         "orientation": "v",
         "showlegend": true,
         "type": "scatter",
         "x": {
          "bdata": "AAAAAAAALEAAAAAAAIBLQAAAAAAAAPh/AAAAAACAQUAAAAAAAABBQAAAAAAAgFBAAAAAAAAAO0AAAAAAAAAIQAAAAAAAAD1AAAAAAAAANUAAAAAAAAAUQAAAAAAAAD1AAAAAAAAAQEAAAAAAAAA1QI/C9Shcj+o/AAAAAAAAMUAAAAAAAABBQAAAAAAAAEFAAAAAAAAAPUAAAAAAAAA1QAAAAAAAQEBAAAAAAABAQEAAAAAAAAA9QAAAAAAAADlAAAAAAAAAN0AAAAAAAAAyQAAAAAAAADNAAAAAAABAQkAAAAAAAABFQAAAAAAAgElAAAAAAAAAREAAAAAAAAA+QAAAAAAAAPh/AAAAAAAA8D8AAAAAAABAQAAAAAAAADNAAAAAAAAACEAAAAAAAAA4QAAAAAAAgEFAAAAAAAAAPkAAAAAAAABFQAAAAAAAAD5AAAAAAAAAO0AAAAAAAAAzQAAAAAAAADJAAAAAAACATUAAAAAAAAA4QAAAAAAAAEZAAAAAAAAAIEAAAAAAAAAzQAAAAAAAgEBAAAAAAAAAPUAAAAAAAAA4QAAAAAAAAEtAAAAAAAAASUAAAAAAAABCQAAAAAAAgERAAAAAAAAA+H8AAAAAAABFQAAAAAAAAEJAAAAAAAAA+H8AAAAAAAA+QAAAAAAAADpAAAAAAACARUAAAAAAAAA4QAAAAAAAAEtAAAAAAAAAPkAAAAAAAAA2QAAAAAAAAEJAAAAAAAAAAEAAAAAAAAA8QAAAAAAAADlAAAAAAAAAQkAAAAAAAAA4QAAAAAAAAERAAAAAAAAAQ0AAAAAAAAA9QAAAAAAAADJAAAAAAAAAQkAAAAAAAAAxQAAAAAAAAEdAAAAAAAAAN0AAAAAAAAA8QAAAAAAAAEFAAAAAAAAACEAAAAAAAAD4fwAAAAAAAEFAAAAAAAAAMkAAAAAAAAA+QAAAAAAAADxAAAAAAAAAM0AAAAAAAABFQAAAAAAAADhAAAAAAAAAP0AAAAAAAIBGQAAAAAAAADxAAAAAAAAAKkAAAAAAAABCQAAAAAAAAElAAAAAAAAASEAAAAAAAAD4fwAAAAAAgEBAAAAAAAAAN0AAAAAAAABBQAAAAAAAAPh/AAAAAACAQEAAAAAAAABBQAAAAAAAAEJAAAAAAAAASUAAAAAAAAA3QAAAAAAAAABAAAAAAAAAHEAAAAAAAABAQAAAAAAAADNAAAAAAAAA+H8AAAAAAAAgQAAAAAAAADtAAAAAAAAAPEAAAAAAAABPQAAAAAAAAEFAAAAAAAAAOUAAAAAAAABLQAAAAAAAgEdAAAAAAACAQkAAAAAAAAD4fwAAAAAAADhAAAAAAAAANkAAAAAAAAA4QAAAAAAAABBAAAAAAAAAOkAAAAAAAIBMQAAAAAAAADxAAAAAAAAAP0AAAAAAAAAyQAAAAAAAADhAAAAAAAAAN0AAAAAAAABAQAAAAAAAADlAAAAAAAAAREAAAAAAAIBRQAAAAAAAAD9AAAAAAAAA+H8AAAAAAABOQAAAAAAAADlAAAAAAAAASkAAAAAAAIBDQAAAAAAAgEZAAAAAAAAASkAAAAAAAAA7QAAAAAAAABhAAAAAAAAAQUAAAAAAAABJQAAAAAAAAD5AAAAAAAAAOUAAAAAAAAD4fwAAAAAAADdAAAAAAAAAN0AAAAAAAAA+QAAAAAAAABBAAAAAAAAASEBxPQrXo3DlPwAAAAAAADJAAAAAAACATEAAAAAAAABLQAAAAAAAADBAAAAAAACAQ0AAAAAAAABBQAAAAAAAAD9AAAAAAACAQ0AAAAAAAIBBQAAAAAAAAD9AAAAAAAAA8D+PwvUoXI/qPwAAAAAAADBAAAAAAAAAPEAAAAAAAABGQAAAAAAAADVAAAAAAAAAOEAAAAAAAABFQAAAAAAAADtAAAAAAAAAPEAAAAAAAAA5QAAAAAAAADxAAAAAAAAAO0A=",
          "dtype": "f8"
         },
         "xaxis": "x",
         "y": {
          "bdata": "io7k8h8SPkAAAAAAAAAwQAAAAAAAACpAAAAAAAAAOkAAAAAAAAAqQAAAAAAAACVAAAAAAAAANUDu68A5I8pEQAAAAAAAADpAAAAAAAAAJUAAAAAAAMA7QAAAAAAAACVAAAAAAAAAJUAAAAAAAGBSQAAAAAAAAD1AAAAAAAAAJUAAAAAAAAA3QAAAAAAAADpAAAAAAAAANUAAAAAAAGBSQIqO5PIfEj5AAAAAAAAAKkAAAAAAAAA6QAAAAAAAACpASFD8GHMXLkAAAAAAAAAnQAAAAAAAYEJAAAAAAAAAOkAAAAAAAAAqQM3MzMzMDClAAAAAAACAL0AAAAAAAAAqQJqZmZmZGS5AAAAAAACAQ0AAAAAAAAAqQAAAAAAAACpAAAAAAAAAOkAAAAAAAAAqQAAAAAAAADVAAAAAAAAAKkAAAAAAAAA7QAAAAAAAACVAAAAAAAAAKkAAAAAAAAAlQAAAAAAAACpAAAAAAAAAK0AAAAAAAAAlQAAAAAAAADpAAAAAAABAOkAAAAAAAAAlQM3MzMzMjChAAAAAAAAAJUAAAAAAAAAtQAAAAAAAADpAAAAAAAAAOkAAAAAAAAAlQAAAAAAAgDNAAAAAAAAAAAAAAAAAAAAqQAAAAAAAwClAMzMzMzOzKEAAAAAAAAA4QAAAAAAAADpAAAAAAABAOkAAAAAAAAA6QAAAAAAAACxAMzMzMzOzKEAAAAAAAAA9QAAAAAAAACpAAAAAAAAAOkAAAAAAAAAqQAAAAAAAACpAAAAAAAAAKkAAAAAAAAAqQAAAAAAAACpAAAAAAAAAKkDx9EpZhrg7QAAAAAAAYFJAAAAAAAAAKkAAAAAAAAAoQAAAAAAAADpAAAAAAAAAJUDNzMzMzEwpQAAAAAAAADVAAAAAAADAMkAAAAAAAAAAAAAAAAAAQEBAAAAAAAAAKkAAAAAAAAAqQAAAAAAAADpAAAAAAAAAOkAAAAAAAAA6QAAAAAAAwDJAAAAAAAAAJUAAAAAAAEA6QAAAAAAAACpAAAAAAACAM0AAAAAAAMA7QAAAAAAAACVAAAAAAAAAKkAAAAAAAAAAAAAAAAAAwDtAhXzQs1mVK0AAAAAAAAA1QAAAAAAAAAAAAAAAAAAAOkAAAAAAAAAlQAAAAAAAADpAAAAAAAAAJUAAAAAAAAAnQAAAAAAAADpAAAAAAABAOkAAAAAAAAA6QAAAAAAAADpAmpmZmZm5K0AAAAAAAGBCQAAAAAAAADpAAAAAAAAAK0AAAAAAAAAlQAAAAAAAACpAAAAAAAAAPkAAAAAAAAA6QAAAAAAAAC5AAAAAAAAAOkAAAAAAAIBAQAAAAAAAADtA7uvAOSPKREAAAAAAAEBQQAAAAAAAgENAAAAAAAAAJUAzMzMzM7MoQAAAAAAAACpAAAAAAABAOkAAAAAAAAA3QAAAAAAAYFJAAAAAAAAAKkAAAAAAAGBSQAAAAAAAACpAAAAAAACAQ0AAAAAAAAAlQAAAAAAAACpAAAAAAAAAAAAAAAAAAIBDQO7rwDkjykRAAAAAAAAAK0AAAAAAAAA6QAAAAAAAACtAAAAAAAAAKkAAAAAAAAAlQAAAAAAAgEBAAAAAAAAAKkAAAAAAAAAqQAAAAAAAADVAAAAAAAAAOkAAAAAAAAAAAAAAAAAAACpAAAAAAAAAKkAAAAAAAAAqQAAAAAAAADdAAAAAAABAUEAAAAAAAAAtQAAAAAAAACdAAAAAAAAAJUAAAAAAAAA3QAAAAAAAADpAAAAAAAAAKkAAAAAAAAAqQAAAAAAAQDpAAAAAAAAAKkAAAAAAAAAlQFRSJ6CJgEJAVFInoImAQkAAAAAAAMAyQAAAAAAAACVAAAAAAACAQEAAAAAAAAA6QAAAAAAAACdAAAAAAAAAKkAAAAAAAAAqQEhQ/BhztytAAAAAAAAAOEAAAAAAAAA6QAAAAAAAACVAAAAAAAAAKkA=",
          "dtype": "f8"
         },
         "yaxis": "y"
        }
       ],
       "layout": {
        "coloraxis": {
         "colorbar": {
          "title": {
           "text": "Survival (0 = No, 1 = Yes)"
          }
         },
         "colorscale": [
          [
           0,
           "#0d0887"
          ],
          [
           0.1111111111111111,
           "#46039f"
          ],
          [
           0.2222222222222222,
           "#7201a8"
          ],
          [
           0.3333333333333333,
           "#9c179e"
          ],
          [
           0.4444444444444444,
           "#bd3786"
          ],
          [
           0.5555555555555556,
           "#d8576b"
          ],
          [
           0.6666666666666666,
           "#ed7953"
          ],
          [
           0.7777777777777778,
           "#fb9f3a"
          ],
          [
           0.8888888888888888,
           "#fdca26"
          ],
          [
           1,
           "#f0f921"
          ]
         ]
        },
        "legend": {
         "itemsizing": "constant",
         "title": {
          "text": "Passenger Class"
         },
         "tracegroupgap": 0
        },
        "template": {
         "data": {
          "bar": [
           {
            "error_x": {
             "color": "#f2f5fa"
            },
            "error_y": {
             "color": "#f2f5fa"
            },
            "marker": {
             "line": {
              "color": "rgb(17,17,17)",
              "width": 0.5
             },
             "pattern": {
              "fillmode": "overlay",
              "size": 10,
              "solidity": 0.2
             }
            },
            "type": "bar"
           }
          ],
          "barpolar": [
           {
            "marker": {
             "line": {
              "color": "rgb(17,17,17)",
              "width": 0.5
             },
             "pattern": {
              "fillmode": "overlay",
              "size": 10,
              "solidity": 0.2
             }
            },
            "type": "barpolar"
           }
          ],
          "carpet": [
           {
            "aaxis": {
             "endlinecolor": "#A2B1C6",
             "gridcolor": "#506784",
             "linecolor": "#506784",
             "minorgridcolor": "#506784",
             "startlinecolor": "#A2B1C6"
            },
            "baxis": {
             "endlinecolor": "#A2B1C6",
             "gridcolor": "#506784",
             "linecolor": "#506784",
             "minorgridcolor": "#506784",
             "startlinecolor": "#A2B1C6"
            },
            "type": "carpet"
           }
          ],
          "choropleth": [
           {
            "colorbar": {
             "outlinewidth": 0,
             "ticks": ""
            },
            "type": "choropleth"
           }
          ],
          "contour": [
           {
            "colorbar": {
             "outlinewidth": 0,
             "ticks": ""
            },
            "colorscale": [
             [
              0,
              "#0d0887"
             ],
             [
              0.1111111111111111,
              "#46039f"
             ],
             [
              0.2222222222222222,
              "#7201a8"
             ],
             [
              0.3333333333333333,
              "#9c179e"
             ],
             [
              0.4444444444444444,
              "#bd3786"
             ],
             [
              0.5555555555555556,
              "#d8576b"
             ],
             [
              0.6666666666666666,
              "#ed7953"
             ],
             [
              0.7777777777777778,
              "#fb9f3a"
             ],
             [
              0.8888888888888888,
              "#fdca26"
             ],
             [
              1,
              "#f0f921"
             ]
            ],
            "type": "contour"
           }
          ],
          "contourcarpet": [
           {
            "colorbar": {
             "outlinewidth": 0,
             "ticks": ""
            },
            "type": "contourcarpet"
           }
          ],
          "heatmap": [
           {
            "colorbar": {
             "outlinewidth": 0,
             "ticks": ""
            },
            "colorscale": [
             [
              0,
              "#0d0887"
             ],
             [
              0.1111111111111111,
              "#46039f"
             ],
             [
              0.2222222222222222,
              "#7201a8"
             ],
             [
              0.3333333333333333,
              "#9c179e"
             ],
             [
              0.4444444444444444,
              "#bd3786"
             ],
             [
              0.5555555555555556,
              "#d8576b"
             ],
             [
              0.6666666666666666,
              "#ed7953"
             ],
             [
              0.7777777777777778,
              "#fb9f3a"
             ],
             [
              0.8888888888888888,
              "#fdca26"
             ],
             [
              1,
              "#f0f921"
             ]
            ],
            "type": "heatmap"
           }
          ],
          "histogram": [
           {
            "marker": {
             "pattern": {
              "fillmode": "overlay",
              "size": 10,
              "solidity": 0.2
             }
            },
            "type": "histogram"
           }
          ],
          "histogram2d": [
           {
            "colorbar": {
             "outlinewidth": 0,
             "ticks": ""
            },
            "colorscale": [
             [
              0,
              "#0d0887"
             ],
             [
              0.1111111111111111,
              "#46039f"
             ],
             [
              0.2222222222222222,
              "#7201a8"
             ],
             [
              0.3333333333333333,
              "#9c179e"
             ],
             [
              0.4444444444444444,
              "#bd3786"
             ],
             [
              0.5555555555555556,
              "#d8576b"
             ],
             [
              0.6666666666666666,
              "#ed7953"
             ],
             [
              0.7777777777777778,
              "#fb9f3a"
             ],
             [
              0.8888888888888888,
              "#fdca26"
             ],
             [
              1,
              "#f0f921"
             ]
            ],
            "type": "histogram2d"
           }
          ],
          "histogram2dcontour": [
           {
            "colorbar": {
             "outlinewidth": 0,
             "ticks": ""
            },
            "colorscale": [
             [
              0,
              "#0d0887"
             ],
             [
              0.1111111111111111,
              "#46039f"
             ],
             [
              0.2222222222222222,
              "#7201a8"
             ],
             [
              0.3333333333333333,
              "#9c179e"
             ],
             [
              0.4444444444444444,
              "#bd3786"
             ],
             [
              0.5555555555555556,
              "#d8576b"
             ],
             [
              0.6666666666666666,
              "#ed7953"
             ],
             [
              0.7777777777777778,
              "#fb9f3a"
             ],
             [
              0.8888888888888888,
              "#fdca26"
             ],
             [
              1,
              "#f0f921"
             ]
            ],
            "type": "histogram2dcontour"
           }
          ],
          "mesh3d": [
           {
            "colorbar": {
             "outlinewidth": 0,
             "ticks": ""
            },
            "type": "mesh3d"
           }
          ],
          "parcoords": [
           {
            "line": {
             "colorbar": {
              "outlinewidth": 0,
              "ticks": ""
             }
            },
            "type": "parcoords"
           }
          ],
          "pie": [
           {
            "automargin": true,
            "type": "pie"
           }
          ],
          "scatter": [
           {
            "marker": {
             "line": {
              "color": "#283442"
             }
            },
            "type": "scatter"
           }
          ],
          "scatter3d": [
           {
            "line": {
             "colorbar": {
              "outlinewidth": 0,
              "ticks": ""
             }
            },
            "marker": {
             "colorbar": {
              "outlinewidth": 0,
              "ticks": ""
             }
            },
            "type": "scatter3d"
           }
          ],
          "scattercarpet": [
           {
            "marker": {
             "colorbar": {
              "outlinewidth": 0,
              "ticks": ""
             }
            },
            "type": "scattercarpet"
           }
          ],
          "scattergeo": [
           {
            "marker": {
             "colorbar": {
              "outlinewidth": 0,
              "ticks": ""
             }
            },
            "type": "scattergeo"
           }
          ],
          "scattergl": [
           {
            "marker": {
             "line": {
              "color": "#283442"
             }
            },
            "type": "scattergl"
           }
          ],
          "scattermap": [
           {
            "marker": {
             "colorbar": {
              "outlinewidth": 0,
              "ticks": ""
             }
            },
            "type": "scattermap"
           }
          ],
          "scattermapbox": [
           {
            "marker": {
             "colorbar": {
              "outlinewidth": 0,
              "ticks": ""
             }
            },
            "type": "scattermapbox"
           }
          ],
          "scatterpolar": [
           {
            "marker": {
             "colorbar": {
              "outlinewidth": 0,
              "ticks": ""
             }
            },
            "type": "scatterpolar"
           }
          ],
          "scatterpolargl": [
           {
            "marker": {
             "colorbar": {
              "outlinewidth": 0,
              "ticks": ""
             }
            },
            "type": "scatterpolargl"
           }
          ],
          "scatterternary": [
           {
            "marker": {
             "colorbar": {
              "outlinewidth": 0,
              "ticks": ""
             }
            },
            "type": "scatterternary"
           }
          ],
          "surface": [
           {
            "colorbar": {
             "outlinewidth": 0,
             "ticks": ""
            },
            "colorscale": [
             [
              0,
              "#0d0887"
             ],
             [
              0.1111111111111111,
              "#46039f"
             ],
             [
              0.2222222222222222,
              "#7201a8"
             ],
             [
              0.3333333333333333,
              "#9c179e"
             ],
             [
              0.4444444444444444,
              "#bd3786"
             ],
             [
              0.5555555555555556,
              "#d8576b"
             ],
             [
              0.6666666666666666,
              "#ed7953"
             ],
             [
              0.7777777777777778,
              "#fb9f3a"
             ],
             [
              0.8888888888888888,
              "#fdca26"
             ],
             [
              1,
              "#f0f921"
             ]
            ],
            "type": "surface"
           }
          ],
          "table": [
           {
            "cells": {
             "fill": {
              "color": "#506784"
             },
             "line": {
              "color": "rgb(17,17,17)"
             }
            },
            "header": {
             "fill": {
              "color": "#2a3f5f"
             },
             "line": {
              "color": "rgb(17,17,17)"
             }
            },
            "type": "table"
           }
          ]
         },
         "layout": {
          "annotationdefaults": {
           "arrowcolor": "#f2f5fa",
           "arrowhead": 0,
           "arrowwidth": 1
          },
          "autotypenumbers": "strict",
          "coloraxis": {
           "colorbar": {
            "outlinewidth": 0,
            "ticks": ""
           }
          },
          "colorscale": {
           "diverging": [
            [
             0,
             "#8e0152"
            ],
            [
             0.1,
             "#c51b7d"
            ],
            [
             0.2,
             "#de77ae"
            ],
            [
             0.3,
             "#f1b6da"
            ],
            [
             0.4,
             "#fde0ef"
            ],
            [
             0.5,
             "#f7f7f7"
            ],
            [
             0.6,
             "#e6f5d0"
            ],
            [
             0.7,
             "#b8e186"
            ],
            [
             0.8,
             "#7fbc41"
            ],
            [
             0.9,
             "#4d9221"
            ],
            [
             1,
             "#276419"
            ]
           ],
           "sequential": [
            [
             0,
             "#0d0887"
            ],
            [
             0.1111111111111111,
             "#46039f"
            ],
            [
             0.2222222222222222,
             "#7201a8"
            ],
            [
             0.3333333333333333,
             "#9c179e"
            ],
            [
             0.4444444444444444,
             "#bd3786"
            ],
            [
             0.5555555555555556,
             "#d8576b"
            ],
            [
             0.6666666666666666,
             "#ed7953"
            ],
            [
             0.7777777777777778,
             "#fb9f3a"
            ],
            [
             0.8888888888888888,
             "#fdca26"
            ],
            [
             1,
             "#f0f921"
            ]
           ],
           "sequentialminus": [
            [
             0,
             "#0d0887"
            ],
            [
             0.1111111111111111,
             "#46039f"
            ],
            [
             0.2222222222222222,
             "#7201a8"
            ],
            [
             0.3333333333333333,
             "#9c179e"
            ],
            [
             0.4444444444444444,
             "#bd3786"
            ],
            [
             0.5555555555555556,
             "#d8576b"
            ],
            [
             0.6666666666666666,
             "#ed7953"
            ],
            [
             0.7777777777777778,
             "#fb9f3a"
            ],
            [
             0.8888888888888888,
             "#fdca26"
            ],
            [
             1,
             "#f0f921"
            ]
           ]
          },
          "colorway": [
           "#636efa",
           "#EF553B",
           "#00cc96",
           "#ab63fa",
           "#FFA15A",
           "#19d3f3",
           "#FF6692",
           "#B6E880",
           "#FF97FF",
           "#FECB52"
          ],
          "font": {
           "color": "#f2f5fa"
          },
          "geo": {
           "bgcolor": "rgb(17,17,17)",
           "lakecolor": "rgb(17,17,17)",
           "landcolor": "rgb(17,17,17)",
           "showlakes": true,
           "showland": true,
           "subunitcolor": "#506784"
          },
          "hoverlabel": {
           "align": "left"
          },
          "hovermode": "closest",
          "mapbox": {
           "style": "dark"
          },
          "paper_bgcolor": "rgb(17,17,17)",
          "plot_bgcolor": "rgb(17,17,17)",
          "polar": {
           "angularaxis": {
            "gridcolor": "#506784",
            "linecolor": "#506784",
            "ticks": ""
           },
           "bgcolor": "rgb(17,17,17)",
           "radialaxis": {
            "gridcolor": "#506784",
            "linecolor": "#506784",
            "ticks": ""
           }
          },
          "scene": {
           "xaxis": {
            "backgroundcolor": "rgb(17,17,17)",
            "gridcolor": "#506784",
            "gridwidth": 2,
            "linecolor": "#506784",
            "showbackground": true,
            "ticks": "",
            "zerolinecolor": "#C8D4E3"
           },
           "yaxis": {
            "backgroundcolor": "rgb(17,17,17)",
            "gridcolor": "#506784",
            "gridwidth": 2,
            "linecolor": "#506784",
            "showbackground": true,
            "ticks": "",
            "zerolinecolor": "#C8D4E3"
           },
           "zaxis": {
            "backgroundcolor": "rgb(17,17,17)",
            "gridcolor": "#506784",
            "gridwidth": 2,
            "linecolor": "#506784",
            "showbackground": true,
            "ticks": "",
            "zerolinecolor": "#C8D4E3"
           }
          },
          "shapedefaults": {
           "line": {
            "color": "#f2f5fa"
           }
          },
          "sliderdefaults": {
           "bgcolor": "#C8D4E3",
           "bordercolor": "rgb(17,17,17)",
           "borderwidth": 1,
           "tickwidth": 0
          },
          "ternary": {
           "aaxis": {
            "gridcolor": "#506784",
            "linecolor": "#506784",
            "ticks": ""
           },
           "baxis": {
            "gridcolor": "#506784",
            "linecolor": "#506784",
            "ticks": ""
           },
           "bgcolor": "rgb(17,17,17)",
           "caxis": {
            "gridcolor": "#506784",
            "linecolor": "#506784",
            "ticks": ""
           }
          },
          "title": {
           "x": 0.05
          },
          "updatemenudefaults": {
           "bgcolor": "#506784",
           "borderwidth": 0
          },
          "xaxis": {
           "automargin": true,
           "gridcolor": "#283442",
           "linecolor": "#506784",
           "ticks": "",
           "title": {
            "standoff": 15
           },
           "zerolinecolor": "#283442",
           "zerolinewidth": 2
          },
          "yaxis": {
           "automargin": true,
           "gridcolor": "#283442",
           "linecolor": "#506784",
           "ticks": "",
           "title": {
            "standoff": 15
           },
           "zerolinecolor": "#283442",
           "zerolinewidth": 2
          }
         }
        },
        "title": {
         "text": "🧭 Interactive EDA: Age vs Fare by Survival, Class & Gender"
        },
        "xaxis": {
         "anchor": "y",
         "domain": [
          0,
          1
         ],
         "title": {
          "text": "Passenger Age"
         }
        },
        "yaxis": {
         "anchor": "x",
         "domain": [
          0,
          1
         ],
         "title": {
          "text": "Fare Paid"
         }
        }
       }
      }
     },
     "metadata": {},
     "output_type": "display_data"
    }
   ],
   "source": [
    "import plotly.express as px\n",
    "import plotly.io as pio\n",
    "\n",
    "pio.kaleido.scope.default_format = \"png\"\n",
    "\n",
    "# Plotly interactive scatter plot\n",
    "fig = px.scatter(\n",
    "    df,\n",
    "    x='Age',\n",
    "    y='Fare',\n",
    "    color='Survived',\n",
    "    symbol='Pclass',\n",
    "    size='Fare',\n",
    "    hover_data=['Sex', 'Embarked'],\n",
    "    labels={\n",
    "        'Age': 'Passenger Age',\n",
    "        'Fare': 'Fare Paid',\n",
    "        'Survived': 'Survival (0 = No, 1 = Yes)',\n",
    "        'Pclass': 'Passenger Class'\n",
    "    },\n",
    "    color_discrete_map={0: 'red', 1: 'green'},\n",
    "    title=\"🧭 Interactive EDA: Age vs Fare by Survival, Class & Gender\",\n",
    "    template='plotly_dark'\n",
    ")\n",
    "\n",
    "# Save the figure\n",
    "fig.write_image(\"../visuals/interactive_scatter_plot.png\")\n",
    "\n",
    "# Show the figure\n",
    "fig.show()\n"
   ]
  },
  {
   "cell_type": "code",
   "execution_count": 6,
   "id": "9a84ca8a",
   "metadata": {},
   "outputs": [
    {
     "name": "stdout",
     "output_type": "stream",
     "text": [
      "Feature-Level Insights:\n",
      "\n",
      "🔹 Total passengers: 891\n",
      "🔹 Survived: 342 (38.38%)\n",
      "\n",
      "🔹 Survival Rate by Gender:\n",
      "Sex\n",
      "female    0.742038\n",
      "male      0.188908\n",
      "Name: Survived, dtype: float64\n",
      "\n",
      "🔹 Survival Rate by Class:\n",
      "Pclass\n",
      "1    0.629630\n",
      "2    0.472826\n",
      "3    0.242363\n",
      "Name: Survived, dtype: float64\n",
      "\n",
      "🔹 Age Statistics:\n",
      "          count       mean        std   min   25%   50%   75%   max\n",
      "Survived                                                           \n",
      "0         424.0  30.626179  14.172110  1.00  21.0  28.0  39.0  74.0\n",
      "1         290.0  28.343690  14.950952  0.42  19.0  28.0  36.0  80.0\n",
      "\n",
      "🔹 Correlation with Survival:\n",
      "Survived       1.000000\n",
      "Fare           0.257307\n",
      "Parch          0.081629\n",
      "PassengerId   -0.005007\n",
      "SibSp         -0.035322\n",
      "Age           -0.077221\n",
      "Pclass        -0.338481\n",
      "Name: Survived, dtype: float64\n"
     ]
    }
   ],
   "source": [
    "# 🧠 Summary insights from EDA\n",
    "print(\"Feature-Level Insights:\\n\")\n",
    "\n",
    "# Class distribution\n",
    "print(f\"🔹 Total passengers: {len(df)}\")\n",
    "print(f\"🔹 Survived: {df['Survived'].sum()} ({df['Survived'].mean() * 100:.2f}%)\")\n",
    "\n",
    "# Gender-based survival\n",
    "survival_by_gender = df.groupby('Sex')['Survived'].mean()\n",
    "print(\"\\n🔹 Survival Rate by Gender:\")\n",
    "print(survival_by_gender)\n",
    "\n",
    "# Class-based survival\n",
    "survival_by_class = df.groupby('Pclass')['Survived'].mean()\n",
    "print(\"\\n🔹 Survival Rate by Class:\")\n",
    "print(survival_by_class)\n",
    "\n",
    "# Age survival comparison\n",
    "print(\"\\n🔹 Age Statistics:\")\n",
    "print(df.groupby('Survived')['Age'].describe())\n",
    "\n",
    "# Pearson correlation matrix (numerical only)\n",
    "corr = df.select_dtypes(include='number').corr()\n",
    "print(\"\\n🔹 Correlation with Survival:\")\n",
    "print(corr['Survived'].sort_values(ascending=False))\n"
   ]
  }
 ],
 "metadata": {
  "kernelspec": {
   "display_name": "Python 3",
   "language": "python",
   "name": "python3"
  },
  "language_info": {
   "codemirror_mode": {
    "name": "ipython",
    "version": 3
   },
   "file_extension": ".py",
   "mimetype": "text/x-python",
   "name": "python",
   "nbconvert_exporter": "python",
   "pygments_lexer": "ipython3",
   "version": "3.13.3"
  }
 },
 "nbformat": 4,
 "nbformat_minor": 5
}
